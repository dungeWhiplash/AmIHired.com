{
  "cells": [
    {
      "cell_type": "code",
      "execution_count": 2,
      "metadata": {
        "id": "dJTgzdQNcHci"
      },
      "outputs": [],
      "source": [
        "import pandas as pd\n",
        "import numpy as np\n",
        "import statistics\n",
        "from statistics import mean as avg\n",
        "import warnings\n",
        "warnings.filterwarnings('ignore')\n",
        "import seaborn as sns\n",
        "import matplotlib.pyplot as plt\n",
        "%matplotlib inline\n",
        "from sklearn.linear_model import LogisticRegression\n",
        "from sklearn.tree import DecisionTreeClassifier\n",
        "from sklearn.ensemble import RandomForestClassifier\n",
        "from sklearn.model_selection import StratifiedKFold, train_test_split\n",
        "from sklearn.metrics import accuracy_score, r2_score, precision_score, f1_score, recall_score, roc_auc_score\n",
        "from imblearn.over_sampling import SMOTE, ADASYN\n",
        "from imblearn.combine import SMOTETomek, SMOTEENN\n",
        "from imblearn.under_sampling import RandomUnderSampler\n",
        "from sklearn.preprocessing import StandardScaler\n",
        "from sklearn.decomposition import PCA\n",
        "from sklearn.svm import SVC\n",
        "from collections import Counter\n",
        "import joblib\n",
        "from imblearn.pipeline import Pipeline as ImbPipeline\n",
        "from sklearn.compose import ColumnTransformer"
      ]
    },
    {
      "cell_type": "code",
      "execution_count": 3,
      "metadata": {
        "colab": {
          "base_uri": "https://localhost:8080/",
          "height": 269
        },
        "id": "guQQUIjGcWTP",
        "outputId": "f3945e46-ef5a-4cdc-c69b-8551feb98035"
      },
      "outputs": [
        {
          "data": {
            "text/html": [
              "<div>\n",
              "<style scoped>\n",
              "    .dataframe tbody tr th:only-of-type {\n",
              "        vertical-align: middle;\n",
              "    }\n",
              "\n",
              "    .dataframe tbody tr th {\n",
              "        vertical-align: top;\n",
              "    }\n",
              "\n",
              "    .dataframe thead th {\n",
              "        text-align: right;\n",
              "    }\n",
              "</style>\n",
              "<table border=\"1\" class=\"dataframe\">\n",
              "  <thead>\n",
              "    <tr style=\"text-align: right;\">\n",
              "      <th></th>\n",
              "      <th>Age</th>\n",
              "      <th>Gender</th>\n",
              "      <th>EducationLevel</th>\n",
              "      <th>ExperienceYears</th>\n",
              "      <th>PreviousCompanies</th>\n",
              "      <th>DistanceFromCompany</th>\n",
              "      <th>InterviewScore</th>\n",
              "      <th>SkillScore</th>\n",
              "      <th>PersonalityScore</th>\n",
              "      <th>RecruitmentStrategy</th>\n",
              "      <th>HiringDecision</th>\n",
              "    </tr>\n",
              "  </thead>\n",
              "  <tbody>\n",
              "    <tr>\n",
              "      <th>0</th>\n",
              "      <td>26</td>\n",
              "      <td>1</td>\n",
              "      <td>2</td>\n",
              "      <td>0</td>\n",
              "      <td>3</td>\n",
              "      <td>26.783828</td>\n",
              "      <td>48</td>\n",
              "      <td>78</td>\n",
              "      <td>91</td>\n",
              "      <td>1</td>\n",
              "      <td>1</td>\n",
              "    </tr>\n",
              "    <tr>\n",
              "      <th>1</th>\n",
              "      <td>39</td>\n",
              "      <td>1</td>\n",
              "      <td>4</td>\n",
              "      <td>12</td>\n",
              "      <td>3</td>\n",
              "      <td>25.862694</td>\n",
              "      <td>35</td>\n",
              "      <td>68</td>\n",
              "      <td>80</td>\n",
              "      <td>2</td>\n",
              "      <td>1</td>\n",
              "    </tr>\n",
              "    <tr>\n",
              "      <th>2</th>\n",
              "      <td>48</td>\n",
              "      <td>0</td>\n",
              "      <td>2</td>\n",
              "      <td>3</td>\n",
              "      <td>2</td>\n",
              "      <td>9.920805</td>\n",
              "      <td>20</td>\n",
              "      <td>67</td>\n",
              "      <td>13</td>\n",
              "      <td>2</td>\n",
              "      <td>0</td>\n",
              "    </tr>\n",
              "    <tr>\n",
              "      <th>3</th>\n",
              "      <td>34</td>\n",
              "      <td>1</td>\n",
              "      <td>2</td>\n",
              "      <td>5</td>\n",
              "      <td>2</td>\n",
              "      <td>6.407751</td>\n",
              "      <td>36</td>\n",
              "      <td>27</td>\n",
              "      <td>70</td>\n",
              "      <td>3</td>\n",
              "      <td>0</td>\n",
              "    </tr>\n",
              "    <tr>\n",
              "      <th>4</th>\n",
              "      <td>30</td>\n",
              "      <td>0</td>\n",
              "      <td>1</td>\n",
              "      <td>6</td>\n",
              "      <td>1</td>\n",
              "      <td>43.105343</td>\n",
              "      <td>23</td>\n",
              "      <td>52</td>\n",
              "      <td>85</td>\n",
              "      <td>2</td>\n",
              "      <td>0</td>\n",
              "    </tr>\n",
              "    <tr>\n",
              "      <th>5</th>\n",
              "      <td>27</td>\n",
              "      <td>0</td>\n",
              "      <td>3</td>\n",
              "      <td>14</td>\n",
              "      <td>4</td>\n",
              "      <td>31.706659</td>\n",
              "      <td>54</td>\n",
              "      <td>50</td>\n",
              "      <td>50</td>\n",
              "      <td>1</td>\n",
              "      <td>1</td>\n",
              "    </tr>\n",
              "    <tr>\n",
              "      <th>6</th>\n",
              "      <td>48</td>\n",
              "      <td>0</td>\n",
              "      <td>2</td>\n",
              "      <td>6</td>\n",
              "      <td>1</td>\n",
              "      <td>17.291229</td>\n",
              "      <td>24</td>\n",
              "      <td>52</td>\n",
              "      <td>64</td>\n",
              "      <td>3</td>\n",
              "      <td>0</td>\n",
              "    </tr>\n",
              "  </tbody>\n",
              "</table>\n",
              "</div>"
            ],
            "text/plain": [
              "   Age  Gender  EducationLevel  ExperienceYears  PreviousCompanies  \\\n",
              "0   26       1               2                0                  3   \n",
              "1   39       1               4               12                  3   \n",
              "2   48       0               2                3                  2   \n",
              "3   34       1               2                5                  2   \n",
              "4   30       0               1                6                  1   \n",
              "5   27       0               3               14                  4   \n",
              "6   48       0               2                6                  1   \n",
              "\n",
              "   DistanceFromCompany  InterviewScore  SkillScore  PersonalityScore  \\\n",
              "0            26.783828              48          78                91   \n",
              "1            25.862694              35          68                80   \n",
              "2             9.920805              20          67                13   \n",
              "3             6.407751              36          27                70   \n",
              "4            43.105343              23          52                85   \n",
              "5            31.706659              54          50                50   \n",
              "6            17.291229              24          52                64   \n",
              "\n",
              "   RecruitmentStrategy  HiringDecision  \n",
              "0                    1               1  \n",
              "1                    2               1  \n",
              "2                    2               0  \n",
              "3                    3               0  \n",
              "4                    2               0  \n",
              "5                    1               1  \n",
              "6                    3               0  "
            ]
          },
          "execution_count": 3,
          "metadata": {},
          "output_type": "execute_result"
        }
      ],
      "source": [
        "df = pd.read_csv('recruitment_data.csv')\n",
        "df.head(7)"
      ]
    },
    {
      "cell_type": "code",
      "execution_count": 4,
      "metadata": {
        "colab": {
          "base_uri": "https://localhost:8080/"
        },
        "id": "HraeO4uAcdir",
        "outputId": "7c50ad49-a134-4155-e8e7-b1b683cf8e18"
      },
      "outputs": [
        {
          "data": {
            "text/plain": [
              "Age                    0\n",
              "Gender                 0\n",
              "EducationLevel         0\n",
              "ExperienceYears        0\n",
              "PreviousCompanies      0\n",
              "DistanceFromCompany    0\n",
              "InterviewScore         0\n",
              "SkillScore             0\n",
              "PersonalityScore       0\n",
              "RecruitmentStrategy    0\n",
              "HiringDecision         0\n",
              "dtype: int64"
            ]
          },
          "execution_count": 4,
          "metadata": {},
          "output_type": "execute_result"
        }
      ],
      "source": [
        "df.isna().sum()"
      ]
    },
    {
      "cell_type": "code",
      "execution_count": 5,
      "metadata": {
        "colab": {
          "base_uri": "https://localhost:8080/"
        },
        "id": "yQQtlZeocnCa",
        "outputId": "5703c2b2-a5db-41f3-fe6f-813f864bf144"
      },
      "outputs": [
        {
          "name": "stdout",
          "output_type": "stream",
          "text": [
            "<class 'pandas.core.frame.DataFrame'>\n",
            "RangeIndex: 1500 entries, 0 to 1499\n",
            "Data columns (total 11 columns):\n",
            " #   Column               Non-Null Count  Dtype  \n",
            "---  ------               --------------  -----  \n",
            " 0   Age                  1500 non-null   int64  \n",
            " 1   Gender               1500 non-null   int64  \n",
            " 2   EducationLevel       1500 non-null   int64  \n",
            " 3   ExperienceYears      1500 non-null   int64  \n",
            " 4   PreviousCompanies    1500 non-null   int64  \n",
            " 5   DistanceFromCompany  1500 non-null   float64\n",
            " 6   InterviewScore       1500 non-null   int64  \n",
            " 7   SkillScore           1500 non-null   int64  \n",
            " 8   PersonalityScore     1500 non-null   int64  \n",
            " 9   RecruitmentStrategy  1500 non-null   int64  \n",
            " 10  HiringDecision       1500 non-null   int64  \n",
            "dtypes: float64(1), int64(10)\n",
            "memory usage: 129.0 KB\n"
          ]
        }
      ],
      "source": [
        "df.info()"
      ]
    },
    {
      "cell_type": "code",
      "execution_count": 6,
      "metadata": {
        "colab": {
          "base_uri": "https://localhost:8080/"
        },
        "id": "Aa1Cb7J0G6sC",
        "outputId": "fa253a25-585a-454d-d2e6-705829098c73"
      },
      "outputs": [
        {
          "data": {
            "text/plain": [
              "0    1035\n",
              "1     465\n",
              "Name: HiringDecision, dtype: int64"
            ]
          },
          "execution_count": 6,
          "metadata": {},
          "output_type": "execute_result"
        }
      ],
      "source": [
        "df['HiringDecision'].value_counts()"
      ]
    },
    {
      "cell_type": "code",
      "execution_count": 7,
      "metadata": {
        "colab": {
          "base_uri": "https://localhost:8080/",
          "height": 414
        },
        "id": "07kEyJwwcsbz",
        "outputId": "38cdc8e9-2683-4918-ee8e-716636d28e03"
      },
      "outputs": [
        {
          "data": {
            "text/html": [
              "<div>\n",
              "<style scoped>\n",
              "    .dataframe tbody tr th:only-of-type {\n",
              "        vertical-align: middle;\n",
              "    }\n",
              "\n",
              "    .dataframe tbody tr th {\n",
              "        vertical-align: top;\n",
              "    }\n",
              "\n",
              "    .dataframe thead th {\n",
              "        text-align: right;\n",
              "    }\n",
              "</style>\n",
              "<table border=\"1\" class=\"dataframe\">\n",
              "  <thead>\n",
              "    <tr style=\"text-align: right;\">\n",
              "      <th></th>\n",
              "      <th>Age</th>\n",
              "      <th>Gender</th>\n",
              "      <th>EducationLevel</th>\n",
              "      <th>ExperienceYears</th>\n",
              "      <th>PreviousCompanies</th>\n",
              "      <th>DistanceFromCompany</th>\n",
              "      <th>InterviewScore</th>\n",
              "      <th>SkillScore</th>\n",
              "      <th>PersonalityScore</th>\n",
              "      <th>RecruitmentStrategy</th>\n",
              "      <th>HiringDecision</th>\n",
              "    </tr>\n",
              "  </thead>\n",
              "  <tbody>\n",
              "    <tr>\n",
              "      <th>Age</th>\n",
              "      <td>1.000000</td>\n",
              "      <td>0.011286</td>\n",
              "      <td>0.032610</td>\n",
              "      <td>0.024780</td>\n",
              "      <td>-0.032580</td>\n",
              "      <td>-0.021031</td>\n",
              "      <td>-0.025579</td>\n",
              "      <td>-0.008068</td>\n",
              "      <td>0.037727</td>\n",
              "      <td>0.018064</td>\n",
              "      <td>0.001850</td>\n",
              "    </tr>\n",
              "    <tr>\n",
              "      <th>Gender</th>\n",
              "      <td>0.011286</td>\n",
              "      <td>1.000000</td>\n",
              "      <td>0.009676</td>\n",
              "      <td>-0.028502</td>\n",
              "      <td>-0.061915</td>\n",
              "      <td>0.003822</td>\n",
              "      <td>-0.020887</td>\n",
              "      <td>0.012333</td>\n",
              "      <td>0.023729</td>\n",
              "      <td>-0.023753</td>\n",
              "      <td>-0.002249</td>\n",
              "    </tr>\n",
              "    <tr>\n",
              "      <th>EducationLevel</th>\n",
              "      <td>0.032610</td>\n",
              "      <td>0.009676</td>\n",
              "      <td>1.000000</td>\n",
              "      <td>-0.000951</td>\n",
              "      <td>0.007367</td>\n",
              "      <td>0.020600</td>\n",
              "      <td>0.012807</td>\n",
              "      <td>-0.043367</td>\n",
              "      <td>0.031115</td>\n",
              "      <td>-0.036923</td>\n",
              "      <td>0.236710</td>\n",
              "    </tr>\n",
              "    <tr>\n",
              "      <th>ExperienceYears</th>\n",
              "      <td>0.024780</td>\n",
              "      <td>-0.028502</td>\n",
              "      <td>-0.000951</td>\n",
              "      <td>1.000000</td>\n",
              "      <td>0.015784</td>\n",
              "      <td>0.007920</td>\n",
              "      <td>-0.051701</td>\n",
              "      <td>0.006323</td>\n",
              "      <td>0.013891</td>\n",
              "      <td>0.029603</td>\n",
              "      <td>0.122494</td>\n",
              "    </tr>\n",
              "    <tr>\n",
              "      <th>PreviousCompanies</th>\n",
              "      <td>-0.032580</td>\n",
              "      <td>-0.061915</td>\n",
              "      <td>0.007367</td>\n",
              "      <td>0.015784</td>\n",
              "      <td>1.000000</td>\n",
              "      <td>0.009187</td>\n",
              "      <td>-0.008387</td>\n",
              "      <td>0.040883</td>\n",
              "      <td>-0.024572</td>\n",
              "      <td>-0.000466</td>\n",
              "      <td>0.044025</td>\n",
              "    </tr>\n",
              "    <tr>\n",
              "      <th>DistanceFromCompany</th>\n",
              "      <td>-0.021031</td>\n",
              "      <td>0.003822</td>\n",
              "      <td>0.020600</td>\n",
              "      <td>0.007920</td>\n",
              "      <td>0.009187</td>\n",
              "      <td>1.000000</td>\n",
              "      <td>-0.019594</td>\n",
              "      <td>-0.016891</td>\n",
              "      <td>0.004627</td>\n",
              "      <td>-0.007315</td>\n",
              "      <td>-0.016791</td>\n",
              "    </tr>\n",
              "    <tr>\n",
              "      <th>InterviewScore</th>\n",
              "      <td>-0.025579</td>\n",
              "      <td>-0.020887</td>\n",
              "      <td>0.012807</td>\n",
              "      <td>-0.051701</td>\n",
              "      <td>-0.008387</td>\n",
              "      <td>-0.019594</td>\n",
              "      <td>1.000000</td>\n",
              "      <td>-0.004887</td>\n",
              "      <td>-0.027967</td>\n",
              "      <td>0.012004</td>\n",
              "      <td>0.146064</td>\n",
              "    </tr>\n",
              "    <tr>\n",
              "      <th>SkillScore</th>\n",
              "      <td>-0.008068</td>\n",
              "      <td>0.012333</td>\n",
              "      <td>-0.043367</td>\n",
              "      <td>0.006323</td>\n",
              "      <td>0.040883</td>\n",
              "      <td>-0.016891</td>\n",
              "      <td>-0.004887</td>\n",
              "      <td>1.000000</td>\n",
              "      <td>-0.004266</td>\n",
              "      <td>-0.031189</td>\n",
              "      <td>0.203668</td>\n",
              "    </tr>\n",
              "    <tr>\n",
              "      <th>PersonalityScore</th>\n",
              "      <td>0.037727</td>\n",
              "      <td>0.023729</td>\n",
              "      <td>0.031115</td>\n",
              "      <td>0.013891</td>\n",
              "      <td>-0.024572</td>\n",
              "      <td>0.004627</td>\n",
              "      <td>-0.027967</td>\n",
              "      <td>-0.004266</td>\n",
              "      <td>1.000000</td>\n",
              "      <td>0.004712</td>\n",
              "      <td>0.169177</td>\n",
              "    </tr>\n",
              "    <tr>\n",
              "      <th>RecruitmentStrategy</th>\n",
              "      <td>0.018064</td>\n",
              "      <td>-0.023753</td>\n",
              "      <td>-0.036923</td>\n",
              "      <td>0.029603</td>\n",
              "      <td>-0.000466</td>\n",
              "      <td>-0.007315</td>\n",
              "      <td>0.012004</td>\n",
              "      <td>-0.031189</td>\n",
              "      <td>0.004712</td>\n",
              "      <td>1.000000</td>\n",
              "      <td>-0.477552</td>\n",
              "    </tr>\n",
              "    <tr>\n",
              "      <th>HiringDecision</th>\n",
              "      <td>0.001850</td>\n",
              "      <td>-0.002249</td>\n",
              "      <td>0.236710</td>\n",
              "      <td>0.122494</td>\n",
              "      <td>0.044025</td>\n",
              "      <td>-0.016791</td>\n",
              "      <td>0.146064</td>\n",
              "      <td>0.203668</td>\n",
              "      <td>0.169177</td>\n",
              "      <td>-0.477552</td>\n",
              "      <td>1.000000</td>\n",
              "    </tr>\n",
              "  </tbody>\n",
              "</table>\n",
              "</div>"
            ],
            "text/plain": [
              "                          Age    Gender  EducationLevel  ExperienceYears  \\\n",
              "Age                  1.000000  0.011286        0.032610         0.024780   \n",
              "Gender               0.011286  1.000000        0.009676        -0.028502   \n",
              "EducationLevel       0.032610  0.009676        1.000000        -0.000951   \n",
              "ExperienceYears      0.024780 -0.028502       -0.000951         1.000000   \n",
              "PreviousCompanies   -0.032580 -0.061915        0.007367         0.015784   \n",
              "DistanceFromCompany -0.021031  0.003822        0.020600         0.007920   \n",
              "InterviewScore      -0.025579 -0.020887        0.012807        -0.051701   \n",
              "SkillScore          -0.008068  0.012333       -0.043367         0.006323   \n",
              "PersonalityScore     0.037727  0.023729        0.031115         0.013891   \n",
              "RecruitmentStrategy  0.018064 -0.023753       -0.036923         0.029603   \n",
              "HiringDecision       0.001850 -0.002249        0.236710         0.122494   \n",
              "\n",
              "                     PreviousCompanies  DistanceFromCompany  InterviewScore  \\\n",
              "Age                          -0.032580            -0.021031       -0.025579   \n",
              "Gender                       -0.061915             0.003822       -0.020887   \n",
              "EducationLevel                0.007367             0.020600        0.012807   \n",
              "ExperienceYears               0.015784             0.007920       -0.051701   \n",
              "PreviousCompanies             1.000000             0.009187       -0.008387   \n",
              "DistanceFromCompany           0.009187             1.000000       -0.019594   \n",
              "InterviewScore               -0.008387            -0.019594        1.000000   \n",
              "SkillScore                    0.040883            -0.016891       -0.004887   \n",
              "PersonalityScore             -0.024572             0.004627       -0.027967   \n",
              "RecruitmentStrategy          -0.000466            -0.007315        0.012004   \n",
              "HiringDecision                0.044025            -0.016791        0.146064   \n",
              "\n",
              "                     SkillScore  PersonalityScore  RecruitmentStrategy  \\\n",
              "Age                   -0.008068          0.037727             0.018064   \n",
              "Gender                 0.012333          0.023729            -0.023753   \n",
              "EducationLevel        -0.043367          0.031115            -0.036923   \n",
              "ExperienceYears        0.006323          0.013891             0.029603   \n",
              "PreviousCompanies      0.040883         -0.024572            -0.000466   \n",
              "DistanceFromCompany   -0.016891          0.004627            -0.007315   \n",
              "InterviewScore        -0.004887         -0.027967             0.012004   \n",
              "SkillScore             1.000000         -0.004266            -0.031189   \n",
              "PersonalityScore      -0.004266          1.000000             0.004712   \n",
              "RecruitmentStrategy   -0.031189          0.004712             1.000000   \n",
              "HiringDecision         0.203668          0.169177            -0.477552   \n",
              "\n",
              "                     HiringDecision  \n",
              "Age                        0.001850  \n",
              "Gender                    -0.002249  \n",
              "EducationLevel             0.236710  \n",
              "ExperienceYears            0.122494  \n",
              "PreviousCompanies          0.044025  \n",
              "DistanceFromCompany       -0.016791  \n",
              "InterviewScore             0.146064  \n",
              "SkillScore                 0.203668  \n",
              "PersonalityScore           0.169177  \n",
              "RecruitmentStrategy       -0.477552  \n",
              "HiringDecision             1.000000  "
            ]
          },
          "execution_count": 7,
          "metadata": {},
          "output_type": "execute_result"
        }
      ],
      "source": [
        "df.corr()"
      ]
    },
    {
      "cell_type": "code",
      "execution_count": 8,
      "metadata": {
        "colab": {
          "base_uri": "https://localhost:8080/",
          "height": 300
        },
        "id": "cj8Mh9i6mSLu",
        "outputId": "599f2d45-9cab-4172-fb25-2d6fe15313f9"
      },
      "outputs": [
        {
          "data": {
            "text/html": [
              "<div>\n",
              "<style scoped>\n",
              "    .dataframe tbody tr th:only-of-type {\n",
              "        vertical-align: middle;\n",
              "    }\n",
              "\n",
              "    .dataframe tbody tr th {\n",
              "        vertical-align: top;\n",
              "    }\n",
              "\n",
              "    .dataframe thead th {\n",
              "        text-align: right;\n",
              "    }\n",
              "</style>\n",
              "<table border=\"1\" class=\"dataframe\">\n",
              "  <thead>\n",
              "    <tr style=\"text-align: right;\">\n",
              "      <th></th>\n",
              "      <th>Age</th>\n",
              "      <th>Gender</th>\n",
              "      <th>EducationLevel</th>\n",
              "      <th>ExperienceYears</th>\n",
              "      <th>PreviousCompanies</th>\n",
              "      <th>DistanceFromCompany</th>\n",
              "      <th>InterviewScore</th>\n",
              "      <th>SkillScore</th>\n",
              "      <th>PersonalityScore</th>\n",
              "      <th>RecruitmentStrategy</th>\n",
              "      <th>HiringDecision</th>\n",
              "    </tr>\n",
              "  </thead>\n",
              "  <tbody>\n",
              "    <tr>\n",
              "      <th>count</th>\n",
              "      <td>1500.000000</td>\n",
              "      <td>1500.000000</td>\n",
              "      <td>1500.000000</td>\n",
              "      <td>1500.000000</td>\n",
              "      <td>1500.00000</td>\n",
              "      <td>1500.000000</td>\n",
              "      <td>1500.000000</td>\n",
              "      <td>1500.000000</td>\n",
              "      <td>1500.000000</td>\n",
              "      <td>1500.000000</td>\n",
              "      <td>1500.000000</td>\n",
              "    </tr>\n",
              "    <tr>\n",
              "      <th>mean</th>\n",
              "      <td>35.148667</td>\n",
              "      <td>0.492000</td>\n",
              "      <td>2.188000</td>\n",
              "      <td>7.694000</td>\n",
              "      <td>3.00200</td>\n",
              "      <td>25.505379</td>\n",
              "      <td>50.564000</td>\n",
              "      <td>51.116000</td>\n",
              "      <td>49.387333</td>\n",
              "      <td>1.893333</td>\n",
              "      <td>0.310000</td>\n",
              "    </tr>\n",
              "    <tr>\n",
              "      <th>std</th>\n",
              "      <td>9.252728</td>\n",
              "      <td>0.500103</td>\n",
              "      <td>0.862449</td>\n",
              "      <td>4.641414</td>\n",
              "      <td>1.41067</td>\n",
              "      <td>14.567151</td>\n",
              "      <td>28.626215</td>\n",
              "      <td>29.353563</td>\n",
              "      <td>29.353201</td>\n",
              "      <td>0.689642</td>\n",
              "      <td>0.462647</td>\n",
              "    </tr>\n",
              "    <tr>\n",
              "      <th>min</th>\n",
              "      <td>20.000000</td>\n",
              "      <td>0.000000</td>\n",
              "      <td>1.000000</td>\n",
              "      <td>0.000000</td>\n",
              "      <td>1.00000</td>\n",
              "      <td>1.031376</td>\n",
              "      <td>0.000000</td>\n",
              "      <td>0.000000</td>\n",
              "      <td>0.000000</td>\n",
              "      <td>1.000000</td>\n",
              "      <td>0.000000</td>\n",
              "    </tr>\n",
              "    <tr>\n",
              "      <th>25%</th>\n",
              "      <td>27.000000</td>\n",
              "      <td>0.000000</td>\n",
              "      <td>2.000000</td>\n",
              "      <td>4.000000</td>\n",
              "      <td>2.00000</td>\n",
              "      <td>12.838851</td>\n",
              "      <td>25.000000</td>\n",
              "      <td>25.750000</td>\n",
              "      <td>23.000000</td>\n",
              "      <td>1.000000</td>\n",
              "      <td>0.000000</td>\n",
              "    </tr>\n",
              "    <tr>\n",
              "      <th>50%</th>\n",
              "      <td>35.000000</td>\n",
              "      <td>0.000000</td>\n",
              "      <td>2.000000</td>\n",
              "      <td>8.000000</td>\n",
              "      <td>3.00000</td>\n",
              "      <td>25.502239</td>\n",
              "      <td>52.000000</td>\n",
              "      <td>53.000000</td>\n",
              "      <td>49.000000</td>\n",
              "      <td>2.000000</td>\n",
              "      <td>0.000000</td>\n",
              "    </tr>\n",
              "    <tr>\n",
              "      <th>75%</th>\n",
              "      <td>43.000000</td>\n",
              "      <td>1.000000</td>\n",
              "      <td>3.000000</td>\n",
              "      <td>12.000000</td>\n",
              "      <td>4.00000</td>\n",
              "      <td>37.737996</td>\n",
              "      <td>75.000000</td>\n",
              "      <td>76.000000</td>\n",
              "      <td>76.000000</td>\n",
              "      <td>2.000000</td>\n",
              "      <td>1.000000</td>\n",
              "    </tr>\n",
              "    <tr>\n",
              "      <th>max</th>\n",
              "      <td>50.000000</td>\n",
              "      <td>1.000000</td>\n",
              "      <td>4.000000</td>\n",
              "      <td>15.000000</td>\n",
              "      <td>5.00000</td>\n",
              "      <td>50.992462</td>\n",
              "      <td>100.000000</td>\n",
              "      <td>100.000000</td>\n",
              "      <td>100.000000</td>\n",
              "      <td>3.000000</td>\n",
              "      <td>1.000000</td>\n",
              "    </tr>\n",
              "  </tbody>\n",
              "</table>\n",
              "</div>"
            ],
            "text/plain": [
              "               Age       Gender  EducationLevel  ExperienceYears  \\\n",
              "count  1500.000000  1500.000000     1500.000000      1500.000000   \n",
              "mean     35.148667     0.492000        2.188000         7.694000   \n",
              "std       9.252728     0.500103        0.862449         4.641414   \n",
              "min      20.000000     0.000000        1.000000         0.000000   \n",
              "25%      27.000000     0.000000        2.000000         4.000000   \n",
              "50%      35.000000     0.000000        2.000000         8.000000   \n",
              "75%      43.000000     1.000000        3.000000        12.000000   \n",
              "max      50.000000     1.000000        4.000000        15.000000   \n",
              "\n",
              "       PreviousCompanies  DistanceFromCompany  InterviewScore   SkillScore  \\\n",
              "count         1500.00000          1500.000000     1500.000000  1500.000000   \n",
              "mean             3.00200            25.505379       50.564000    51.116000   \n",
              "std              1.41067            14.567151       28.626215    29.353563   \n",
              "min              1.00000             1.031376        0.000000     0.000000   \n",
              "25%              2.00000            12.838851       25.000000    25.750000   \n",
              "50%              3.00000            25.502239       52.000000    53.000000   \n",
              "75%              4.00000            37.737996       75.000000    76.000000   \n",
              "max              5.00000            50.992462      100.000000   100.000000   \n",
              "\n",
              "       PersonalityScore  RecruitmentStrategy  HiringDecision  \n",
              "count       1500.000000          1500.000000     1500.000000  \n",
              "mean          49.387333             1.893333        0.310000  \n",
              "std           29.353201             0.689642        0.462647  \n",
              "min            0.000000             1.000000        0.000000  \n",
              "25%           23.000000             1.000000        0.000000  \n",
              "50%           49.000000             2.000000        0.000000  \n",
              "75%           76.000000             2.000000        1.000000  \n",
              "max          100.000000             3.000000        1.000000  "
            ]
          },
          "execution_count": 8,
          "metadata": {},
          "output_type": "execute_result"
        }
      ],
      "source": [
        "df.describe()"
      ]
    },
    {
      "cell_type": "code",
      "execution_count": 9,
      "metadata": {
        "colab": {
          "base_uri": "https://localhost:8080/",
          "height": 600
        },
        "id": "f2Gd7AA1cwPu",
        "outputId": "a49ab2fc-da2e-4b73-c6f9-d5e39d737681"
      },
      "outputs": [
        {
          "data": {
            "text/plain": [
              "<AxesSubplot:>"
            ]
          },
          "execution_count": 9,
          "metadata": {},
          "output_type": "execute_result"
        },
        {
          "data": {
            "image/png": "[encoded data removed]",
            "text/plain": [
              "<Figure size 432x288 with 2 Axes>"
            ]
          },
          "metadata": {
            "needs_background": "light"
          },
          "output_type": "display_data"
        }
      ],
      "source": [
        "cmap = sns.diverging_palette(220, 10, as_cmap=True)\n",
        "sns.heatmap(df.corr(),cmap=cmap)"
      ]
    },
    {
      "cell_type": "code",
      "execution_count": 10,
      "metadata": {
        "id": "RxMY1uFhc6PX"
      },
      "outputs": [],
      "source": [
        "hiring_decision = df[df['HiringDecision']==1]"
      ]
    },
    {
      "cell_type": "code",
      "execution_count": 11,
      "metadata": {
        "colab": {
          "base_uri": "https://localhost:8080/"
        },
        "id": "hRzjJzH2N01u",
        "outputId": "2ab5d9e6-7739-4221-8473-6d3ba94e427f"
      },
      "outputs": [
        {
          "data": {
            "text/plain": [
              "(465, 11)"
            ]
          },
          "execution_count": 11,
          "metadata": {},
          "output_type": "execute_result"
        }
      ],
      "source": [
        "hiring_decision.shape"
      ]
    },
    {
      "cell_type": "code",
      "execution_count": 12,
      "metadata": {
        "colab": {
          "base_uri": "https://localhost:8080/",
          "height": 206
        },
        "id": "5sixjSBqNSr_",
        "outputId": "e48780f3-6dce-4992-82a5-d26ec0201515"
      },
      "outputs": [
        {
          "data": {
            "text/html": [
              "<div>\n",
              "<style scoped>\n",
              "    .dataframe tbody tr th:only-of-type {\n",
              "        vertical-align: middle;\n",
              "    }\n",
              "\n",
              "    .dataframe tbody tr th {\n",
              "        vertical-align: top;\n",
              "    }\n",
              "\n",
              "    .dataframe thead th {\n",
              "        text-align: right;\n",
              "    }\n",
              "</style>\n",
              "<table border=\"1\" class=\"dataframe\">\n",
              "  <thead>\n",
              "    <tr style=\"text-align: right;\">\n",
              "      <th></th>\n",
              "      <th>Age</th>\n",
              "      <th>Gender</th>\n",
              "      <th>EducationLevel</th>\n",
              "      <th>ExperienceYears</th>\n",
              "      <th>PreviousCompanies</th>\n",
              "      <th>DistanceFromCompany</th>\n",
              "      <th>InterviewScore</th>\n",
              "      <th>SkillScore</th>\n",
              "      <th>PersonalityScore</th>\n",
              "      <th>RecruitmentStrategy</th>\n",
              "      <th>HiringDecision</th>\n",
              "    </tr>\n",
              "  </thead>\n",
              "  <tbody>\n",
              "    <tr>\n",
              "      <th>0</th>\n",
              "      <td>26</td>\n",
              "      <td>1</td>\n",
              "      <td>2</td>\n",
              "      <td>0</td>\n",
              "      <td>3</td>\n",
              "      <td>26.783828</td>\n",
              "      <td>48</td>\n",
              "      <td>78</td>\n",
              "      <td>91</td>\n",
              "      <td>1</td>\n",
              "      <td>1</td>\n",
              "    </tr>\n",
              "    <tr>\n",
              "      <th>1</th>\n",
              "      <td>39</td>\n",
              "      <td>1</td>\n",
              "      <td>4</td>\n",
              "      <td>12</td>\n",
              "      <td>3</td>\n",
              "      <td>25.862694</td>\n",
              "      <td>35</td>\n",
              "      <td>68</td>\n",
              "      <td>80</td>\n",
              "      <td>2</td>\n",
              "      <td>1</td>\n",
              "    </tr>\n",
              "    <tr>\n",
              "      <th>5</th>\n",
              "      <td>27</td>\n",
              "      <td>0</td>\n",
              "      <td>3</td>\n",
              "      <td>14</td>\n",
              "      <td>4</td>\n",
              "      <td>31.706659</td>\n",
              "      <td>54</td>\n",
              "      <td>50</td>\n",
              "      <td>50</td>\n",
              "      <td>1</td>\n",
              "      <td>1</td>\n",
              "    </tr>\n",
              "    <tr>\n",
              "      <th>8</th>\n",
              "      <td>26</td>\n",
              "      <td>1</td>\n",
              "      <td>3</td>\n",
              "      <td>6</td>\n",
              "      <td>5</td>\n",
              "      <td>28.774864</td>\n",
              "      <td>80</td>\n",
              "      <td>78</td>\n",
              "      <td>51</td>\n",
              "      <td>1</td>\n",
              "      <td>1</td>\n",
              "    </tr>\n",
              "    <tr>\n",
              "      <th>12</th>\n",
              "      <td>30</td>\n",
              "      <td>0</td>\n",
              "      <td>3</td>\n",
              "      <td>12</td>\n",
              "      <td>5</td>\n",
              "      <td>5.213218</td>\n",
              "      <td>96</td>\n",
              "      <td>46</td>\n",
              "      <td>78</td>\n",
              "      <td>3</td>\n",
              "      <td>1</td>\n",
              "    </tr>\n",
              "  </tbody>\n",
              "</table>\n",
              "</div>"
            ],
            "text/plain": [
              "    Age  Gender  EducationLevel  ExperienceYears  PreviousCompanies  \\\n",
              "0    26       1               2                0                  3   \n",
              "1    39       1               4               12                  3   \n",
              "5    27       0               3               14                  4   \n",
              "8    26       1               3                6                  5   \n",
              "12   30       0               3               12                  5   \n",
              "\n",
              "    DistanceFromCompany  InterviewScore  SkillScore  PersonalityScore  \\\n",
              "0             26.783828              48          78                91   \n",
              "1             25.862694              35          68                80   \n",
              "5             31.706659              54          50                50   \n",
              "8             28.774864              80          78                51   \n",
              "12             5.213218              96          46                78   \n",
              "\n",
              "    RecruitmentStrategy  HiringDecision  \n",
              "0                     1               1  \n",
              "1                     2               1  \n",
              "5                     1               1  \n",
              "8                     1               1  \n",
              "12                    3               1  "
            ]
          },
          "execution_count": 12,
          "metadata": {},
          "output_type": "execute_result"
        }
      ],
      "source": [
        "hiring_decision.head()"
      ]
    },
    {
      "cell_type": "code",
      "execution_count": 13,
      "metadata": {
        "id": "GMU0An1eN-mX"
      },
      "outputs": [],
      "source": [
        "not_hiring_decision = df[df['HiringDecision']==0]"
      ]
    },
    {
      "cell_type": "markdown",
      "metadata": {
        "id": "FAHwruWkyPTu"
      },
      "source": [
        "# Hiring depends on Education, Experience, Interview score, Skill score, Personality score, Recruitment strategy.\n",
        "# Not hiring depends on Education, Recruitment strategy."
      ]
    },
    {
      "cell_type": "markdown",
      "metadata": {
        "id": "XLFApxmPOgfC"
      },
      "source": [
        "# LOGIT MODEL"
      ]
    },
    {
      "cell_type": "markdown",
      "metadata": {
        "id": "Yt76hMojvlAb"
      },
      "source": [
        "Oversampling techniques"
      ]
    },
    {
      "cell_type": "code",
      "execution_count": 14,
      "metadata": {
        "id": "9iRJwTsty5mx"
      },
      "outputs": [],
      "source": [
        "X = df.drop('HiringDecision',axis=1)\n",
        "y = df['HiringDecision']\n",
        "scaler = StandardScaler()"
      ]
    },
    {
      "cell_type": "code",
      "execution_count": 15,
      "metadata": {
        "colab": {
          "base_uri": "https://localhost:8080/",
          "height": 75
        },
        "id": "MN7u5c8C1z-E",
        "outputId": "5ce354d0-5164-44fc-bbb8-60bb75815313"
      },
      "outputs": [
        {
          "data": {
            "text/html": [
              "<style>#sk-container-id-1 {color: black;background-color: white;}#sk-container-id-1 pre{padding: 0;}#sk-container-id-1 div.sk-toggleable {background-color: white;}#sk-container-id-1 label.sk-toggleable__label {cursor: pointer;display: block;width: 100%;margin-bottom: 0;padding: 0.3em;box-sizing: border-box;text-align: center;}#sk-container-id-1 label.sk-toggleable__label-arrow:before {content: \"▸\";float: left;margin-right: 0.25em;color: #696969;}#sk-container-id-1 label.sk-toggleable__label-arrow:hover:before {color: black;}#sk-container-id-1 div.sk-estimator:hover label.sk-toggleable__label-arrow:before {color: black;}#sk-container-id-1 div.sk-toggleable__content {max-height: 0;max-width: 0;overflow: hidden;text-align: left;background-color: #f0f8ff;}#sk-container-id-1 div.sk-toggleable__content pre {margin: 0.2em;color: black;border-radius: 0.25em;background-color: #f0f8ff;}#sk-container-id-1 input.sk-toggleable__control:checked~div.sk-toggleable__content {max-height: 200px;max-width: 100%;overflow: auto;}#sk-container-id-1 input.sk-toggleable__control:checked~label.sk-toggleable__label-arrow:before {content: \"▾\";}#sk-container-id-1 div.sk-estimator input.sk-toggleable__control:checked~label.sk-toggleable__label {background-color: #d4ebff;}#sk-container-id-1 div.sk-label input.sk-toggleable__control:checked~label.sk-toggleable__label {background-color: #d4ebff;}#sk-container-id-1 input.sk-hidden--visually {border: 0;clip: rect(1px 1px 1px 1px);clip: rect(1px, 1px, 1px, 1px);height: 1px;margin: -1px;overflow: hidden;padding: 0;position: absolute;width: 1px;}#sk-container-id-1 div.sk-estimator {font-family: monospace;background-color: #f0f8ff;border: 1px dotted black;border-radius: 0.25em;box-sizing: border-box;margin-bottom: 0.5em;}#sk-container-id-1 div.sk-estimator:hover {background-color: #d4ebff;}#sk-container-id-1 div.sk-parallel-item::after {content: \"\";width: 100%;border-bottom: 1px solid gray;flex-grow: 1;}#sk-container-id-1 div.sk-label:hover label.sk-toggleable__label {background-color: #d4ebff;}#sk-container-id-1 div.sk-serial::before {content: \"\";position: absolute;border-left: 1px solid gray;box-sizing: border-box;top: 0;bottom: 0;left: 50%;z-index: 0;}#sk-container-id-1 div.sk-serial {display: flex;flex-direction: column;align-items: center;background-color: white;padding-right: 0.2em;padding-left: 0.2em;position: relative;}#sk-container-id-1 div.sk-item {position: relative;z-index: 1;}#sk-container-id-1 div.sk-parallel {display: flex;align-items: stretch;justify-content: center;background-color: white;position: relative;}#sk-container-id-1 div.sk-item::before, #sk-container-id-1 div.sk-parallel-item::before {content: \"\";position: absolute;border-left: 1px solid gray;box-sizing: border-box;top: 0;bottom: 0;left: 50%;z-index: -1;}#sk-container-id-1 div.sk-parallel-item {display: flex;flex-direction: column;z-index: 1;position: relative;background-color: white;}#sk-container-id-1 div.sk-parallel-item:first-child::after {align-self: flex-end;width: 50%;}#sk-container-id-1 div.sk-parallel-item:last-child::after {align-self: flex-start;width: 50%;}#sk-container-id-1 div.sk-parallel-item:only-child::after {width: 0;}#sk-container-id-1 div.sk-dashed-wrapped {border: 1px dashed gray;margin: 0 0.4em 0.5em 0.4em;box-sizing: border-box;padding-bottom: 0.4em;background-color: white;}#sk-container-id-1 div.sk-label label {font-family: monospace;font-weight: bold;display: inline-block;line-height: 1.2em;}#sk-container-id-1 div.sk-label-container {text-align: center;}#sk-container-id-1 div.sk-container {/* jupyter's `normalize.less` sets `[hidden] { display: none; }` but bootstrap.min.css set `[hidden] { display: none !important; }` so we also need the `!important` here to be able to override the default hidden behavior on the sphinx rendered scikit-learn.org. See: https://github.com/scikit-learn/scikit-learn/issues/21755 */display: inline-block !important;position: relative;}#sk-container-id-1 div.sk-text-repr-fallback {display: none;}</style><div id=\"sk-container-id-1\" class=\"sk-top-container\"><div class=\"sk-text-repr-fallback\"><pre>LogisticRegression()</pre><b>In a Jupyter environment, please rerun this cell to show the HTML representation or trust the notebook. <br />On GitHub, the HTML representation is unable to render, please try loading this page with nbviewer.org.</b></div><div class=\"sk-container\" hidden><div class=\"sk-item\"><div class=\"sk-estimator sk-toggleable\"><input class=\"sk-toggleable__control sk-hidden--visually\" id=\"sk-estimator-id-1\" type=\"checkbox\" checked><label for=\"sk-estimator-id-1\" class=\"sk-toggleable__label sk-toggleable__label-arrow\">LogisticRegression</label><div class=\"sk-toggleable__content\"><pre>LogisticRegression()</pre></div></div></div></div></div>"
            ],
            "text/plain": [
              "LogisticRegression()"
            ]
          },
          "execution_count": 15,
          "metadata": {},
          "output_type": "execute_result"
        }
      ],
      "source": [
        "model_feature_imp = LogisticRegression()\n",
        "model_feature_imp.fit(X,y)"
      ]
    },
    {
      "cell_type": "code",
      "execution_count": 16,
      "metadata": {
        "id": "btiyE3LV14jH"
      },
      "outputs": [],
      "source": [
        "importance = model_feature_imp.coef_"
      ]
    },
    {
      "cell_type": "code",
      "execution_count": 17,
      "metadata": {
        "colab": {
          "base_uri": "https://localhost:8080/"
        },
        "id": "M_8KBFHw18rm",
        "outputId": "4a90c4c3-d72d-4991-ec38-3d69f13347a9"
      },
      "outputs": [
        {
          "data": {
            "text/plain": [
              "array([[-0.01052113, -0.58700968,  0.90077581,  0.10212036,  0.06208   ,\n",
              "        -0.00875944,  0.01878046,  0.02550987,  0.02057649, -2.56298595]])"
            ]
          },
          "execution_count": 17,
          "metadata": {},
          "output_type": "execute_result"
        }
      ],
      "source": [
        "importance"
      ]
    },
    {
      "cell_type": "code",
      "execution_count": 18,
      "metadata": {
        "id": "NNmmyKpq2CZv"
      },
      "outputs": [],
      "source": [
        "model = LogisticRegression()"
      ]
    },
    {
      "cell_type": "code",
      "execution_count": 19,
      "metadata": {
        "colab": {
          "base_uri": "https://localhost:8080/"
        },
        "id": "21hqeQiTGIca",
        "outputId": "710795c4-23a1-475a-b8fa-52fae8e66355"
      },
      "outputs": [
        {
          "name": "stdout",
          "output_type": "stream",
          "text": [
            "Without PCA\n",
            "Average stratified cv accuracies: 0.8226666666666667\n",
            "Average precision: 0.6742392893394431\n",
            "Average f1: 0.7435232159028937\n",
            "Average recall: 0.832258064516129\n",
            "Average roc_auc: 0.891080982806088\n",
            "With PCA\n",
            "Average stratified cv accuracies: 0.744\n",
            "Average precision: 0.569591869479871\n",
            "Average f1: 0.6405223018216405\n",
            "Average recall: 0.7354838709677419\n",
            "Average roc_auc: 0.815032985299465\n"
          ]
        }
      ],
      "source": [
        "skf = StratifiedKFold(n_splits=5, shuffle=True, random_state=42)\n",
        "skf_accuracies = []\n",
        "p = []\n",
        "f = []\n",
        "r = []\n",
        "roc = []\n",
        "smt = SMOTE(random_state=42)\n",
        "for train_index, test_index in skf.split(X, y):\n",
        "    X_train, X_test = X.iloc[train_index], X.iloc[test_index]\n",
        "    y_train, y_test = y.iloc[train_index], y.iloc[test_index]\n",
        "    X_train_scaled, X_test_scaled = scaler.fit_transform(X_train), scaler.transform(X_test)\n",
        "    X_train_resampled, y_train_resampled = smt.fit_resample(X_train_scaled, y_train)\n",
        "    model.fit(X_train_resampled, y_train_resampled)\n",
        "    y_pred = model.predict(X_test_scaled)\n",
        "    y_pred_prob = model.predict_proba(X_test_scaled)[:, 1]\n",
        "\n",
        "    accuracy = accuracy_score(y_test, y_pred)\n",
        "    precision = precision_score(y_test, y_pred)\n",
        "    f1 = f1_score(y_test, y_pred)\n",
        "    recall = recall_score(y_test, y_pred)\n",
        "    roc_auc = roc_auc_score(y_test, y_pred_prob)\n",
        "\n",
        "    skf_accuracies.append(accuracy)\n",
        "    p.append(precision)\n",
        "    f.append(f1)\n",
        "    r.append(recall)\n",
        "    roc.append(roc_auc)\n",
        "print(\"Without PCA\")\n",
        "print(f'Average stratified cv accuracies: {avg(skf_accuracies)}')\n",
        "print(f'Average precision: {avg(p)}')\n",
        "print(f'Average f1: {avg(f)}')\n",
        "print(f'Average recall: {avg(r)}')\n",
        "print(f'Average roc_auc: {avg(roc)}')\n",
        "\n",
        "\n",
        "pca_skf_accuracies = []\n",
        "pca_p = []\n",
        "pca_f = []\n",
        "pca_r = []\n",
        "pca_roc = []\n",
        "for train_index, test_index in skf.split(X, y):\n",
        "    X_train, X_test = X.iloc[train_index], X.iloc[test_index]\n",
        "    y_train, y_test = y.iloc[train_index], y.iloc[test_index]\n",
        "    X_train_scaled, X_test_scaled = scaler.fit_transform(X_train), scaler.transform(X_test)\n",
        "    pca = PCA(n_components=5)\n",
        "    X_train_pca = pca.fit_transform(X_train_scaled)\n",
        "    X_test_pca = pca.transform(X_test_scaled)\n",
        "    X_train_resampled, y_train_resampled = smt.fit_resample(X_train_pca, y_train)\n",
        "    model.fit(X_train_resampled, y_train_resampled)\n",
        "    y_pred = model.predict(X_test_pca)\n",
        "    y_pred_prob = model.predict_proba(X_test_pca)[:, 1]\n",
        "\n",
        "    accuracy = accuracy_score(y_test, y_pred)\n",
        "    precision = precision_score(y_test, y_pred)\n",
        "    f1 = f1_score(y_test, y_pred)\n",
        "    recall = recall_score(y_test, y_pred)\n",
        "    roc_auc = roc_auc_score(y_test, y_pred_prob)\n",
        "\n",
        "    pca_skf_accuracies.append(accuracy)\n",
        "    pca_p.append(precision)\n",
        "    pca_f.append(f1)\n",
        "    pca_r.append(recall)\n",
        "    pca_roc.append(roc_auc)\n",
        "print(\"With PCA\")\n",
        "print(f'Average stratified cv accuracies: {avg(pca_skf_accuracies)}')\n",
        "print(f'Average precision: {avg(pca_p)}')\n",
        "print(f'Average f1: {avg(pca_f)}')\n",
        "print(f'Average recall: {avg(pca_r)}')\n",
        "print(f'Average roc_auc: {avg(pca_roc)}')"
      ]
    },
    {
      "cell_type": "code",
      "execution_count": 20,
      "metadata": {
        "colab": {
          "base_uri": "https://localhost:8080/"
        },
        "id": "NmPRWFNjLY1o",
        "outputId": "7d4f1f43-14ed-42e1-a914-92a039c6bf50"
      },
      "outputs": [
        {
          "name": "stdout",
          "output_type": "stream",
          "text": [
            "Without PCA\n",
            "Stratified cv accuracies: 0.8006666666666666\n",
            "precision: 0.6316958659901611\n",
            "f1: 0.7261424216151263\n",
            "recall: 0.8559139784946237\n",
            "roc_auc: 0.8890758921614461\n",
            "With PCA\n",
            "Average stratified cv accuracies: 0.724\n",
            "Average precision: 0.5406684630061283\n",
            "Average f1: 0.631797487186266\n",
            "Average recall: 0.7634408602150538\n",
            "Average roc_auc: 0.8134642356241234\n"
          ]
        }
      ],
      "source": [
        "skf = StratifiedKFold(n_splits=5, shuffle=True, random_state=42)\n",
        "skf_accuracies = []\n",
        "p = []\n",
        "f = []\n",
        "r = []\n",
        "roc = []\n",
        "adasyn = ADASYN(random_state=42)\n",
        "for train_index, test_index in skf.split(X, y):\n",
        "    X_train, X_test = X.iloc[train_index], X.iloc[test_index]\n",
        "    y_train, y_test = y.iloc[train_index], y.iloc[test_index]\n",
        "    X_train_scaled, X_test_scaled = scaler.fit_transform(X_train), scaler.transform(X_test)\n",
        "    X_train_resampled, y_train_resampled = adasyn.fit_resample(X_train_scaled, y_train)\n",
        "    model.fit(X_train_resampled, y_train_resampled)\n",
        "    y_pred = model.predict(X_test_scaled)\n",
        "    y_pred_prob = model.predict_proba(X_test_scaled)[:, 1]\n",
        "\n",
        "    accuracy = accuracy_score(y_test, y_pred)\n",
        "    precision = precision_score(y_test, y_pred)\n",
        "    f1 = f1_score(y_test, y_pred)\n",
        "    recall = recall_score(y_test, y_pred)\n",
        "    roc_auc = roc_auc_score(y_test, y_pred_prob)\n",
        "\n",
        "    skf_accuracies.append(accuracy)\n",
        "    p.append(precision)\n",
        "    f.append(f1)\n",
        "    r.append(recall)\n",
        "    roc.append(roc_auc)\n",
        "print(\"Without PCA\")\n",
        "print(f'Stratified cv accuracies: {avg(skf_accuracies)}')\n",
        "print(f'precision: {avg(p)}')\n",
        "print(f'f1: {avg(f)}')\n",
        "print(f'recall: {avg(r)}')\n",
        "print(f'roc_auc: {avg(roc)}')\n",
        "\n",
        "pca_skf_accuracies = []\n",
        "pca_p = []\n",
        "pca_f = []\n",
        "pca_r = []\n",
        "pca_roc = []\n",
        "for train_index, test_index in skf.split(X, y):\n",
        "    X_train, X_test = X.iloc[train_index], X.iloc[test_index]\n",
        "    y_train, y_test = y.iloc[train_index], y.iloc[test_index]\n",
        "    X_train_scaled, X_test_scaled = scaler.fit_transform(X_train), scaler.transform(X_test)\n",
        "    pca = PCA(n_components=5)\n",
        "    X_train_pca = pca.fit_transform(X_train_scaled)\n",
        "    X_test_pca = pca.transform(X_test_scaled)\n",
        "    X_train_resampled, y_train_resampled = adasyn.fit_resample(X_train_pca, y_train)\n",
        "    model.fit(X_train_resampled, y_train_resampled)\n",
        "    y_pred = model.predict(X_test_pca)\n",
        "    y_pred_prob = model.predict_proba(X_test_pca)[:, 1]\n",
        "\n",
        "    accuracy = accuracy_score(y_test, y_pred)\n",
        "    precision = precision_score(y_test, y_pred)\n",
        "    f1 = f1_score(y_test, y_pred)\n",
        "    recall = recall_score(y_test, y_pred)\n",
        "    roc_auc = roc_auc_score(y_test, y_pred_prob)\n",
        "\n",
        "    pca_skf_accuracies.append(accuracy)\n",
        "    pca_p.append(precision)\n",
        "    pca_f.append(f1)\n",
        "    pca_r.append(recall)\n",
        "    pca_roc.append(roc_auc)\n",
        "print(\"With PCA\")\n",
        "print(f'Average stratified cv accuracies: {avg(pca_skf_accuracies)}')\n",
        "print(f'Average precision: {avg(pca_p)}')\n",
        "print(f'Average f1: {avg(pca_f)}')\n",
        "print(f'Average recall: {avg(pca_r)}')\n",
        "print(f'Average roc_auc: {avg(pca_roc)}')"
      ]
    },
    {
      "cell_type": "code",
      "execution_count": 21,
      "metadata": {
        "colab": {
          "base_uri": "https://localhost:8080/"
        },
        "id": "s0HwZMPqX4xS",
        "outputId": "6494f1c9-4f2c-4dd7-c8d2-a1132f7bb848"
      },
      "outputs": [
        {
          "name": "stdout",
          "output_type": "stream",
          "text": [
            "Without PCA\n",
            "Average stratified cv accuracies: 0.8233333333333334\n",
            "Average precision: 0.6763604901133305\n",
            "Average f1: 0.7437008421156821\n",
            "Average recall: 0.8301075268817204\n",
            "Average roc_auc: 0.891330320502831\n",
            "With PCA\n",
            "Average stratified cv accuracies: 0.7433333333333333\n",
            "Average precision: 0.5705500995294182\n",
            "Average f1: 0.6366765356645349\n",
            "Average recall: 0.7247311827956989\n",
            "Average roc_auc: 0.8152407667134175\n"
          ]
        }
      ],
      "source": [
        "skf = StratifiedKFold(n_splits=5, shuffle=True, random_state=42)\n",
        "skf_accuracies = []\n",
        "p = []\n",
        "f = []\n",
        "r = []\n",
        "roc = []\n",
        "smtom = SMOTETomek(random_state=42)\n",
        "for train_index, test_index in skf.split(X, y):\n",
        "    X_train, X_test = X.iloc[train_index], X.iloc[test_index]\n",
        "    y_train, y_test = y.iloc[train_index], y.iloc[test_index]\n",
        "    X_train_scaled, X_test_scaled = scaler.fit_transform(X_train), scaler.transform(X_test)\n",
        "    X_train_resampled, y_train_resampled = smtom.fit_resample(X_train_scaled, y_train)\n",
        "    model.fit(X_train_resampled, y_train_resampled)\n",
        "    y_pred = model.predict(X_test_scaled)\n",
        "    y_pred_prob = model.predict_proba(X_test_scaled)[:, 1]\n",
        "\n",
        "    accuracy = accuracy_score(y_test, y_pred)\n",
        "    precision = precision_score(y_test, y_pred)\n",
        "    f1 = f1_score(y_test, y_pred)\n",
        "    recall = recall_score(y_test, y_pred)\n",
        "    roc_auc = roc_auc_score(y_test, y_pred_prob)\n",
        "\n",
        "    skf_accuracies.append(accuracy)\n",
        "    p.append(precision)\n",
        "    f.append(f1)\n",
        "    r.append(recall)\n",
        "    roc.append(roc_auc)\n",
        "print(\"Without PCA\")\n",
        "print(f'Average stratified cv accuracies: {avg(skf_accuracies)}')\n",
        "print(f'Average precision: {avg(p)}')\n",
        "print(f'Average f1: {avg(f)}')\n",
        "print(f'Average recall: {avg(r)}')\n",
        "print(f'Average roc_auc: {avg(roc)}')\n",
        "\n",
        "pca_skf_accuracies = []\n",
        "pca_p = []\n",
        "pca_f = []\n",
        "pca_r = []\n",
        "pca_roc = []\n",
        "for train_index, test_index in skf.split(X, y):\n",
        "    X_train, X_test = X.iloc[train_index], X.iloc[test_index]\n",
        "    y_train, y_test = y.iloc[train_index], y.iloc[test_index]\n",
        "    X_train_scaled, X_test_scaled = scaler.fit_transform(X_train), scaler.transform(X_test)\n",
        "    pca = PCA(n_components=5)\n",
        "    X_train_pca = pca.fit_transform(X_train_scaled)\n",
        "    X_test_pca = pca.transform(X_test_scaled)\n",
        "    X_train_resampled, y_train_resampled = smtom.fit_resample(X_train_pca, y_train)\n",
        "    model.fit(X_train_resampled, y_train_resampled)\n",
        "    y_pred = model.predict(X_test_pca)\n",
        "    y_pred_prob = model.predict_proba(X_test_pca)[:, 1]\n",
        "\n",
        "    accuracy = accuracy_score(y_test, y_pred)\n",
        "    precision = precision_score(y_test, y_pred)\n",
        "    f1 = f1_score(y_test, y_pred)\n",
        "    recall = recall_score(y_test, y_pred)\n",
        "    roc_auc = roc_auc_score(y_test, y_pred_prob)\n",
        "\n",
        "    pca_skf_accuracies.append(accuracy)\n",
        "    pca_p.append(precision)\n",
        "    pca_f.append(f1)\n",
        "    pca_r.append(recall)\n",
        "    pca_roc.append(roc_auc)\n",
        "print(\"With PCA\")\n",
        "print(f'Average stratified cv accuracies: {avg(pca_skf_accuracies)}')\n",
        "print(f'Average precision: {avg(pca_p)}')\n",
        "print(f'Average f1: {avg(pca_f)}')\n",
        "print(f'Average recall: {avg(pca_r)}')\n",
        "print(f'Average roc_auc: {avg(pca_roc)}')"
      ]
    },
    {
      "cell_type": "code",
      "execution_count": 22,
      "metadata": {
        "colab": {
          "base_uri": "https://localhost:8080/"
        },
        "id": "uKHZR20pcCwd",
        "outputId": "608c9337-f95e-4f4f-9ce2-0bdd65929356"
      },
      "outputs": [
        {
          "name": "stdout",
          "output_type": "stream",
          "text": [
            "With PCA\n",
            "Average stratified cv accuracies: 0.7973333333333333\n",
            "Average precision: 0.632287638548412\n",
            "Average f1: 0.719340941756279\n",
            "Average recall: 0.8387096774193549\n",
            "Average roc_auc: 0.8893875642823749\n",
            "With PCA\n",
            "Average stratified cv accuracies: 0.696\n",
            "Average precision: 0.511664581883091\n",
            "Average f1: 0.6166001161178265\n",
            "Average recall: 0.7870967741935484\n",
            "Average roc_auc: 0.8139317438055166\n"
          ]
        }
      ],
      "source": [
        "skf = StratifiedKFold(n_splits=5, shuffle=True, random_state=42)\n",
        "skf_accuracies = []\n",
        "p = []\n",
        "f = []\n",
        "r = []\n",
        "roc = []\n",
        "smeen = SMOTEENN(random_state=42)\n",
        "for train_index, test_index in skf.split(X, y):\n",
        "    X_train, X_test = X.iloc[train_index], X.iloc[test_index]\n",
        "    y_train, y_test = y.iloc[train_index], y.iloc[test_index]\n",
        "    X_train_scaled, X_test_scaled = scaler.fit_transform(X_train), scaler.transform(X_test)\n",
        "    X_train_resampled, y_train_resampled = smeen.fit_resample(X_train_scaled, y_train)\n",
        "    model.fit(X_train_resampled, y_train_resampled)\n",
        "    y_pred = model.predict(X_test_scaled)\n",
        "    y_pred_prob = model.predict_proba(X_test_scaled)[:, 1]\n",
        "\n",
        "    accuracy = accuracy_score(y_test, y_pred)\n",
        "    precision = precision_score(y_test, y_pred)\n",
        "    f1 = f1_score(y_test, y_pred)\n",
        "    recall = recall_score(y_test, y_pred)\n",
        "    roc_auc = roc_auc_score(y_test, y_pred_prob)\n",
        "\n",
        "    skf_accuracies.append(accuracy)\n",
        "    p.append(precision)\n",
        "    f.append(f1)\n",
        "    r.append(recall)\n",
        "    roc.append(roc_auc)\n",
        "print(\"With PCA\")\n",
        "print(f'Average stratified cv accuracies: {avg(skf_accuracies)}')\n",
        "print(f'Average precision: {avg(p)}')\n",
        "print(f'Average f1: {avg(f)}')\n",
        "print(f'Average recall: {avg(r)}')\n",
        "print(f'Average roc_auc: {avg(roc)}')\n",
        "\n",
        "pca_skf_accuracies = []\n",
        "pca_p = []\n",
        "pca_f = []\n",
        "pca_r = []\n",
        "pca_roc = []\n",
        "for train_index, test_index in skf.split(X, y):\n",
        "    X_train, X_test = X.iloc[train_index], X.iloc[test_index]\n",
        "    y_train, y_test = y.iloc[train_index], y.iloc[test_index]\n",
        "    X_train_scaled, X_test_scaled = scaler.fit_transform(X_train), scaler.transform(X_test)\n",
        "    pca = PCA(n_components=5)\n",
        "    X_train_pca = pca.fit_transform(X_train_scaled)\n",
        "    X_test_pca = pca.transform(X_test_scaled)\n",
        "    X_train_resampled, y_train_resampled = smeen.fit_resample(X_train_pca, y_train)\n",
        "    model.fit(X_train_resampled, y_train_resampled)\n",
        "    y_pred = model.predict(X_test_pca)\n",
        "    y_pred_prob = model.predict_proba(X_test_pca)[:, 1]\n",
        "\n",
        "    accuracy = accuracy_score(y_test, y_pred)\n",
        "    precision = precision_score(y_test, y_pred)\n",
        "    f1 = f1_score(y_test, y_pred)\n",
        "    recall = recall_score(y_test, y_pred)\n",
        "    roc_auc = roc_auc_score(y_test, y_pred_prob)\n",
        "\n",
        "    pca_skf_accuracies.append(accuracy)\n",
        "    pca_p.append(precision)\n",
        "    pca_f.append(f1)\n",
        "    pca_r.append(recall)\n",
        "    pca_roc.append(roc_auc)\n",
        "print(\"With PCA\")\n",
        "print(f'Average stratified cv accuracies: {avg(pca_skf_accuracies)}')\n",
        "print(f'Average precision: {avg(pca_p)}')\n",
        "print(f'Average f1: {avg(pca_f)}')\n",
        "print(f'Average recall: {avg(pca_r)}')\n",
        "print(f'Average roc_auc: {avg(pca_roc)}')"
      ]
    },
    {
      "cell_type": "markdown",
      "metadata": {
        "id": "1yCMTX3OEkwY"
      },
      "source": [
        "TRAIN-TEST SPLIT"
      ]
    },
    {
      "cell_type": "code",
      "execution_count": 23,
      "metadata": {
        "id": "44xMs_BlcgUx"
      },
      "outputs": [],
      "source": [
        "X_train, X_test, y_train, y_test = train_test_split(X, y, test_size=0.2, random_state=42)\n",
        "X_train_scaled, X_test_scaled = scaler.fit_transform(X_train), scaler.transform(X_test)"
      ]
    },
    {
      "cell_type": "markdown",
      "metadata": {
        "id": "Ehs3umqovnMQ"
      },
      "source": [
        "Undersampling techniques"
      ]
    },
    {
      "cell_type": "code",
      "execution_count": 24,
      "metadata": {
        "id": "nWF9Yx7tEhQ1"
      },
      "outputs": [],
      "source": [
        "rus = RandomUnderSampler(random_state=42)\n",
        "X_train_resampled, y_train_resampled = rus.fit_resample(X_train_scaled, y_train)"
      ]
    },
    {
      "cell_type": "code",
      "execution_count": 25,
      "metadata": {
        "colab": {
          "base_uri": "https://localhost:8080/"
        },
        "id": "aJs4y4Pl97G0",
        "outputId": "9287b663-3567-467f-cb79-5f7ad1a882eb"
      },
      "outputs": [
        {
          "name": "stdout",
          "output_type": "stream",
          "text": [
            "accuracy: 0.8033333333333333\n",
            "precision: 0.6048387096774194\n",
            "f1: 0.7177033492822966\n",
            "recall: 0.8823529411764706\n",
            "roc_auc: 0.9014500683994529\n"
          ]
        }
      ],
      "source": [
        "model.fit(X_train_resampled, y_train_resampled)\n",
        "y_pred = model.predict(X_test_scaled)\n",
        "y_pred_prob = model.predict_proba(X_test_scaled)[:,1]\n",
        "accuracy = accuracy_score(y_test, y_pred)\n",
        "precision = precision_score(y_test, y_pred)\n",
        "f1 = f1_score(y_test, y_pred)\n",
        "recall = recall_score(y_test, y_pred)\n",
        "roc_auc = roc_auc_score(y_test, y_pred_prob)\n",
        "print(f'accuracy: {accuracy}')\n",
        "print(f'precision: {precision}')\n",
        "print(f'f1: {f1}')\n",
        "print(f'recall: {recall}')\n",
        "print(f'roc_auc: {roc_auc}')"
      ]
    },
    {
      "cell_type": "markdown",
      "metadata": {
        "id": "lZAfCCHBEO_S"
      },
      "source": [
        "Finding good n_components values"
      ]
    },
    {
      "cell_type": "code",
      "execution_count": 26,
      "metadata": {
        "colab": {
          "base_uri": "https://localhost:8080/",
          "height": 581
        },
        "id": "YB17YXlMAQrr",
        "outputId": "dc2ca64b-3679-4671-ef47-ee868bc00220"
      },
      "outputs": [
        {
          "name": "stdout",
          "output_type": "stream",
          "text": [
            "n_components: 10\n"
          ]
        },
        {
          "data": {
            "image/png": "[encoded data removed]",
            "text/plain": [
              "<Figure size 720x432 with 1 Axes>"
            ]
          },
          "metadata": {
            "needs_background": "light"
          },
          "output_type": "display_data"
        }
      ],
      "source": [
        "pca = PCA()\n",
        "pca.fit(X_train_scaled)\n",
        "cum_var = np.cumsum(pca.explained_variance_ratio_)\n",
        "plt.figure(figsize=(10, 6))\n",
        "plt.plot(cum_var, marker='o')\n",
        "plt.title('Cumulative Explained Variance')\n",
        "plt.xlabel('Number of Components')\n",
        "plt.ylabel('Cumulative Explained Variance')\n",
        "n_components = np.argmax(cum_var >= 0.95) + 1\n",
        "print(f'n_components: {n_components}')"
      ]
    },
    {
      "cell_type": "code",
      "execution_count": 27,
      "metadata": {
        "colab": {
          "base_uri": "https://localhost:8080/",
          "height": 487
        },
        "id": "l1sRNSLbGm3W",
        "outputId": "92b3e352-ffc4-4470-9edd-a0f829c936b5"
      },
      "outputs": [
        {
          "data": {
            "image/png": "[encoded data removed]",
            "text/plain": [
              "<Figure size 576x360 with 1 Axes>"
            ]
          },
          "metadata": {
            "needs_background": "light"
          },
          "output_type": "display_data"
        }
      ],
      "source": [
        "# Fit PCA on the scaled data\n",
        "pca = PCA()\n",
        "pca.fit(X_train_scaled)\n",
        "\n",
        "# Plot explained variance\n",
        "plt.figure(figsize=(8, 5))\n",
        "plt.plot(pca.explained_variance_ratio_, marker='o')\n",
        "plt.xlabel('Principal Component')\n",
        "plt.ylabel('Explained Variance Ratio')\n",
        "plt.title('Scree Plot')\n",
        "plt.grid(True)\n",
        "plt.show()"
      ]
    },
    {
      "cell_type": "code",
      "execution_count": 28,
      "metadata": {
        "colab": {
          "base_uri": "https://localhost:8080/"
        },
        "id": "B-AjLBgHIEeo",
        "outputId": "6a0659af-439e-4755-e53d-53d8a680a38c"
      },
      "outputs": [
        {
          "name": "stdout",
          "output_type": "stream",
          "text": [
            "n_components: 5\n"
          ]
        }
      ],
      "source": [
        "eigen_values = pca.explained_variance_\n",
        "n_components = np.sum(eigen_values >= 1)\n",
        "print(f'n_components: {n_components}')"
      ]
    },
    {
      "cell_type": "code",
      "execution_count": 29,
      "metadata": {
        "id": "s1lpZ36RIo4K"
      },
      "outputs": [],
      "source": [
        "model_logit = LogisticRegression()"
      ]
    },
    {
      "cell_type": "code",
      "execution_count": 30,
      "metadata": {
        "id": "4QnVLGnjJ0hg"
      },
      "outputs": [],
      "source": [
        "pca = PCA(n_components=5)\n",
        "X_train_pca = pca.fit_transform(X_train_scaled)\n",
        "X_test_pca = pca.transform(X_test_scaled)"
      ]
    },
    {
      "cell_type": "code",
      "execution_count": 31,
      "metadata": {
        "id": "JSTlqbqWKO3Z"
      },
      "outputs": [],
      "source": [
        "X_train_resampled, y_train_resampled = rus.fit_resample(X_train_pca, y_train)"
      ]
    },
    {
      "cell_type": "code",
      "execution_count": 32,
      "metadata": {
        "colab": {
          "base_uri": "https://localhost:8080/",
          "height": 75
        },
        "id": "-2xw024YKXse",
        "outputId": "e07a123a-85ce-41d0-8fed-853cf74e4085"
      },
      "outputs": [
        {
          "data": {
            "text/html": [
              "<style>#sk-container-id-2 {color: black;background-color: white;}#sk-container-id-2 pre{padding: 0;}#sk-container-id-2 div.sk-toggleable {background-color: white;}#sk-container-id-2 label.sk-toggleable__label {cursor: pointer;display: block;width: 100%;margin-bottom: 0;padding: 0.3em;box-sizing: border-box;text-align: center;}#sk-container-id-2 label.sk-toggleable__label-arrow:before {content: \"▸\";float: left;margin-right: 0.25em;color: #696969;}#sk-container-id-2 label.sk-toggleable__label-arrow:hover:before {color: black;}#sk-container-id-2 div.sk-estimator:hover label.sk-toggleable__label-arrow:before {color: black;}#sk-container-id-2 div.sk-toggleable__content {max-height: 0;max-width: 0;overflow: hidden;text-align: left;background-color: #f0f8ff;}#sk-container-id-2 div.sk-toggleable__content pre {margin: 0.2em;color: black;border-radius: 0.25em;background-color: #f0f8ff;}#sk-container-id-2 input.sk-toggleable__control:checked~div.sk-toggleable__content {max-height: 200px;max-width: 100%;overflow: auto;}#sk-container-id-2 input.sk-toggleable__control:checked~label.sk-toggleable__label-arrow:before {content: \"▾\";}#sk-container-id-2 div.sk-estimator input.sk-toggleable__control:checked~label.sk-toggleable__label {background-color: #d4ebff;}#sk-container-id-2 div.sk-label input.sk-toggleable__control:checked~label.sk-toggleable__label {background-color: #d4ebff;}#sk-container-id-2 input.sk-hidden--visually {border: 0;clip: rect(1px 1px 1px 1px);clip: rect(1px, 1px, 1px, 1px);height: 1px;margin: -1px;overflow: hidden;padding: 0;position: absolute;width: 1px;}#sk-container-id-2 div.sk-estimator {font-family: monospace;background-color: #f0f8ff;border: 1px dotted black;border-radius: 0.25em;box-sizing: border-box;margin-bottom: 0.5em;}#sk-container-id-2 div.sk-estimator:hover {background-color: #d4ebff;}#sk-container-id-2 div.sk-parallel-item::after {content: \"\";width: 100%;border-bottom: 1px solid gray;flex-grow: 1;}#sk-container-id-2 div.sk-label:hover label.sk-toggleable__label {background-color: #d4ebff;}#sk-container-id-2 div.sk-serial::before {content: \"\";position: absolute;border-left: 1px solid gray;box-sizing: border-box;top: 0;bottom: 0;left: 50%;z-index: 0;}#sk-container-id-2 div.sk-serial {display: flex;flex-direction: column;align-items: center;background-color: white;padding-right: 0.2em;padding-left: 0.2em;position: relative;}#sk-container-id-2 div.sk-item {position: relative;z-index: 1;}#sk-container-id-2 div.sk-parallel {display: flex;align-items: stretch;justify-content: center;background-color: white;position: relative;}#sk-container-id-2 div.sk-item::before, #sk-container-id-2 div.sk-parallel-item::before {content: \"\";position: absolute;border-left: 1px solid gray;box-sizing: border-box;top: 0;bottom: 0;left: 50%;z-index: -1;}#sk-container-id-2 div.sk-parallel-item {display: flex;flex-direction: column;z-index: 1;position: relative;background-color: white;}#sk-container-id-2 div.sk-parallel-item:first-child::after {align-self: flex-end;width: 50%;}#sk-container-id-2 div.sk-parallel-item:last-child::after {align-self: flex-start;width: 50%;}#sk-container-id-2 div.sk-parallel-item:only-child::after {width: 0;}#sk-container-id-2 div.sk-dashed-wrapped {border: 1px dashed gray;margin: 0 0.4em 0.5em 0.4em;box-sizing: border-box;padding-bottom: 0.4em;background-color: white;}#sk-container-id-2 div.sk-label label {font-family: monospace;font-weight: bold;display: inline-block;line-height: 1.2em;}#sk-container-id-2 div.sk-label-container {text-align: center;}#sk-container-id-2 div.sk-container {/* jupyter's `normalize.less` sets `[hidden] { display: none; }` but bootstrap.min.css set `[hidden] { display: none !important; }` so we also need the `!important` here to be able to override the default hidden behavior on the sphinx rendered scikit-learn.org. See: https://github.com/scikit-learn/scikit-learn/issues/21755 */display: inline-block !important;position: relative;}#sk-container-id-2 div.sk-text-repr-fallback {display: none;}</style><div id=\"sk-container-id-2\" class=\"sk-top-container\"><div class=\"sk-text-repr-fallback\"><pre>LogisticRegression()</pre><b>In a Jupyter environment, please rerun this cell to show the HTML representation or trust the notebook. <br />On GitHub, the HTML representation is unable to render, please try loading this page with nbviewer.org.</b></div><div class=\"sk-container\" hidden><div class=\"sk-item\"><div class=\"sk-estimator sk-toggleable\"><input class=\"sk-toggleable__control sk-hidden--visually\" id=\"sk-estimator-id-2\" type=\"checkbox\" checked><label for=\"sk-estimator-id-2\" class=\"sk-toggleable__label sk-toggleable__label-arrow\">LogisticRegression</label><div class=\"sk-toggleable__content\"><pre>LogisticRegression()</pre></div></div></div></div></div>"
            ],
            "text/plain": [
              "LogisticRegression()"
            ]
          },
          "execution_count": 32,
          "metadata": {},
          "output_type": "execute_result"
        }
      ],
      "source": [
        "model.fit(X_train_resampled, y_train_resampled)"
      ]
    },
    {
      "cell_type": "code",
      "execution_count": 33,
      "metadata": {
        "id": "_sCX4ZCbKd6J"
      },
      "outputs": [],
      "source": [
        "y_pred = model.predict(X_test_pca)\n",
        "y_pred_prob = model.predict_proba(X_test_pca)[:,1]"
      ]
    },
    {
      "cell_type": "code",
      "execution_count": 34,
      "metadata": {
        "colab": {
          "base_uri": "https://localhost:8080/"
        },
        "id": "kQMi8pOlKi69",
        "outputId": "0db0d072-0245-4623-c7c7-e954e2c0dfa4"
      },
      "outputs": [
        {
          "name": "stdout",
          "output_type": "stream",
          "text": [
            "0.7433333333333333\n",
            "0.5307692307692308\n",
            "0.641860465116279\n",
            "0.8117647058823529\n",
            "0.8339808481532148\n"
          ]
        }
      ],
      "source": [
        "accuracy = accuracy_score(y_test, y_pred)\n",
        "precision = precision_score(y_test, y_pred)\n",
        "f1 = f1_score(y_test, y_pred)\n",
        "recall = recall_score(y_test, y_pred)\n",
        "roc_auc = roc_auc_score(y_test, y_pred_prob)\n",
        "print(accuracy)\n",
        "print(precision)\n",
        "print(f1)\n",
        "print(recall)\n",
        "print(roc_auc)"
      ]
    },
    {
      "cell_type": "markdown",
      "metadata": {
        "id": "0w6OrOJRPRnA"
      },
      "source": [
        "# RANDOM FOREST"
      ]
    },
    {
      "cell_type": "code",
      "execution_count": 35,
      "metadata": {
        "colab": {
          "base_uri": "https://localhost:8080/",
          "height": 805
        },
        "id": "I7q8m0EGK4kz",
        "outputId": "f337cfb1-4b6b-4d7e-cb4a-5fc85deb262b"
      },
      "outputs": [
        {
          "name": "stdout",
          "output_type": "stream",
          "text": [
            "Accuracy: 0.93\n",
            "Precision: 0.8902439024390244\n",
            "F1 Score: 0.874251497005988\n",
            "Recall: 0.8588235294117647\n",
            "ROC AUC: 0.9254172366621067\n"
          ]
        },
        {
          "data": {
            "image/png": "[encoded data removed]",
            "text/plain": [
              "<Figure size 864x576 with 1 Axes>"
            ]
          },
          "metadata": {
            "needs_background": "light"
          },
          "output_type": "display_data"
        }
      ],
      "source": [
        "rfc_model = RandomForestClassifier()\n",
        "X_train, X_test, y_train, y_test = train_test_split(X, y, test_size=0.2, random_state=42)\n",
        "X_train_scaled, X_test_scaled = scaler.fit_transform(X_train), scaler.transform(X_test)\n",
        "smt = SMOTE(random_state=42)\n",
        "X_train_resampled, y_train_resampled = smt.fit_resample(X_train_scaled, y_train)\n",
        "rfc_model.fit(X_train_resampled, y_train_resampled)\n",
        "y_pred = rfc_model.predict(X_test_scaled)\n",
        "y_pred_prob = rfc_model.predict_proba(X_test_scaled)[:,1]\n",
        "accuracy = accuracy_score(y_test, y_pred)\n",
        "precision = precision_score(y_test, y_pred)\n",
        "f1 = f1_score(y_test, y_pred)\n",
        "recall = recall_score(y_test, y_pred)\n",
        "roc_auc = roc_auc_score(y_test, y_pred_prob)\n",
        "\n",
        "print(f'Accuracy: {accuracy}')\n",
        "print(f'Precision: {precision}')\n",
        "print(f'F1 Score: {f1}')\n",
        "print(f'Recall: {recall}')\n",
        "print(f'ROC AUC: {roc_auc}')\n",
        "\n",
        "feature_importances = rfc_model.feature_importances_\n",
        "features = X.columns\n",
        "\n",
        "plt.figure(figsize=(12, 8))\n",
        "plt.barh(features, feature_importances, color='skyblue')\n",
        "plt.xlabel('Feature Importance')\n",
        "plt.title('Feature Importance in Random Forest Classifier')\n",
        "plt.show()"
      ]
    },
    {
      "cell_type": "code",
      "execution_count": 36,
      "metadata": {
        "colab": {
          "base_uri": "https://localhost:8080/",
          "height": 805
        },
        "id": "oM_PMJQkk6sV",
        "outputId": "0d0ff00c-4f95-48ad-a673-b2c40d837150"
      },
      "outputs": [
        {
          "name": "stdout",
          "output_type": "stream",
          "text": [
            "Accuracy: 0.9266666666666666\n",
            "Precision: 0.8620689655172413\n",
            "F1 Score: 0.872093023255814\n",
            "Recall: 0.8823529411764706\n",
            "ROC AUC: 0.9277154582763337\n"
          ]
        },
        {
          "data": {
            "image/png": "[encoded data removed]",
            "text/plain": [
              "<Figure size 864x576 with 1 Axes>"
            ]
          },
          "metadata": {
            "needs_background": "light"
          },
          "output_type": "display_data"
        }
      ],
      "source": [
        "X_train, X_test, y_train, y_test = train_test_split(X, y, test_size=0.2, random_state=42)\n",
        "X_train_scaled, X_test_scaled = scaler.fit_transform(X_train), scaler.transform(X_test)\n",
        "adasyn = ADASYN(random_state=42)\n",
        "X_train_resampled, y_train_resampled = adasyn.fit_resample(X_train_scaled, y_train)\n",
        "rfc_model.fit(X_train_resampled, y_train_resampled)\n",
        "y_pred = rfc_model.predict(X_test_scaled)\n",
        "y_pred_prob = rfc_model.predict_proba(X_test_scaled)[:,1]\n",
        "accuracy = accuracy_score(y_test, y_pred)\n",
        "precision = precision_score(y_test, y_pred)\n",
        "f1 = f1_score(y_test, y_pred)\n",
        "recall = recall_score(y_test, y_pred)\n",
        "roc_auc = roc_auc_score(y_test, y_pred_prob)\n",
        "\n",
        "print(f'Accuracy: {accuracy}')\n",
        "print(f'Precision: {precision}')\n",
        "print(f'F1 Score: {f1}')\n",
        "print(f'Recall: {recall}')\n",
        "print(f'ROC AUC: {roc_auc}')\n",
        "\n",
        "feature_importances = rfc_model.feature_importances_\n",
        "features = X.columns\n",
        "\n",
        "plt.figure(figsize=(12, 8))\n",
        "plt.barh(features, feature_importances, color='skyblue')\n",
        "plt.xlabel('Feature Importance')\n",
        "plt.title('Feature Importance in Random Forest Classifier')\n",
        "plt.show()"
      ]
    },
    {
      "cell_type": "code",
      "execution_count": 37,
      "metadata": {
        "colab": {
          "base_uri": "https://localhost:8080/",
          "height": 805
        },
        "id": "OMBhRJRql7V6",
        "outputId": "ca0d15dd-654c-49c5-929e-43c580117170"
      },
      "outputs": [
        {
          "name": "stdout",
          "output_type": "stream",
          "text": [
            "Accuracy: 0.9266666666666666\n",
            "Precision: 0.8705882352941177\n",
            "F1 Score: 0.8705882352941176\n",
            "Recall: 0.8705882352941177\n",
            "ROC AUC: 0.9288098495212038\n"
          ]
        },
        {
          "data": {
            "image/png": "[encoded data removed]",
            "text/plain": [
              "<Figure size 864x576 with 1 Axes>"
            ]
          },
          "metadata": {
            "needs_background": "light"
          },
          "output_type": "display_data"
        }
      ],
      "source": [
        "X_train, X_test, y_train, y_test = train_test_split(X, y, test_size=0.2, random_state=42)\n",
        "X_train_scaled, X_test_scaled = scaler.fit_transform(X_train), scaler.transform(X_test)\n",
        "smote = SMOTETomek(random_state=42)\n",
        "X_train_resampled, y_train_resampled = smote.fit_resample(X_train_scaled, y_train)\n",
        "rfc_model.fit(X_train_resampled, y_train_resampled)\n",
        "y_pred = rfc_model.predict(X_test_scaled)\n",
        "y_pred_prob = rfc_model.predict_proba(X_test_scaled)[:,1]\n",
        "accuracy = accuracy_score(y_test, y_pred)\n",
        "precision = precision_score(y_test, y_pred)\n",
        "f1 = f1_score(y_test, y_pred)\n",
        "recall = recall_score(y_test, y_pred)\n",
        "roc_auc = roc_auc_score(y_test, y_pred_prob)\n",
        "\n",
        "print(f'Accuracy: {accuracy}')\n",
        "print(f'Precision: {precision}')\n",
        "print(f'F1 Score: {f1}')\n",
        "print(f'Recall: {recall}')\n",
        "print(f'ROC AUC: {roc_auc}')\n",
        "\n",
        "feature_importances = rfc_model.feature_importances_\n",
        "features = X.columns\n",
        "\n",
        "plt.figure(figsize=(12, 8))\n",
        "plt.barh(features, feature_importances, color='skyblue')\n",
        "plt.xlabel('Feature Importance')\n",
        "plt.title('Feature Importance in Random Forest Classifier')\n",
        "plt.show()"
      ]
    },
    {
      "cell_type": "code",
      "execution_count": 38,
      "metadata": {
        "colab": {
          "base_uri": "https://localhost:8080/",
          "height": 805
        },
        "id": "dscCiYdsmGQ6",
        "outputId": "77572547-4b35-40d8-f89a-0d413f87acc9"
      },
      "outputs": [
        {
          "name": "stdout",
          "output_type": "stream",
          "text": [
            "Accuracy: 0.88\n",
            "Precision: 0.7425742574257426\n",
            "F1 Score: 0.8064516129032258\n",
            "Recall: 0.8823529411764706\n",
            "ROC AUC: 0.9252530779753763\n"
          ]
        },
        {
          "data": {
            "image/png": "[encoded data removed]",
            "text/plain": [
              "<Figure size 864x576 with 1 Axes>"
            ]
          },
          "metadata": {
            "needs_background": "light"
          },
          "output_type": "display_data"
        }
      ],
      "source": [
        "X_train, X_test, y_train, y_test = train_test_split(X, y, test_size=0.2, random_state=42)\n",
        "X_train_scaled, X_test_scaled = scaler.fit_transform(X_train), scaler.transform(X_test)\n",
        "smeen = SMOTEENN(random_state=42)\n",
        "X_train_resampled, y_train_resampled = smeen.fit_resample(X_train_scaled, y_train)\n",
        "rfc_model.fit(X_train_resampled, y_train_resampled)\n",
        "y_pred = rfc_model.predict(X_test_scaled)\n",
        "y_pred_prob = rfc_model.predict_proba(X_test_scaled)[:,1]\n",
        "accuracy = accuracy_score(y_test, y_pred)\n",
        "precision = precision_score(y_test, y_pred)\n",
        "f1 = f1_score(y_test, y_pred)\n",
        "recall = recall_score(y_test, y_pred)\n",
        "roc_auc = roc_auc_score(y_test, y_pred_prob)\n",
        "\n",
        "print(f'Accuracy: {accuracy}')\n",
        "print(f'Precision: {precision}')\n",
        "print(f'F1 Score: {f1}')\n",
        "print(f'Recall: {recall}')\n",
        "print(f'ROC AUC: {roc_auc}')\n",
        "\n",
        "feature_importances = rfc_model.feature_importances_\n",
        "features = X.columns\n",
        "\n",
        "plt.figure(figsize=(12, 8))\n",
        "plt.barh(features, feature_importances, color='skyblue')\n",
        "plt.xlabel('Feature Importance')\n",
        "plt.title('Feature Importance in Random Forest Classifier')\n",
        "plt.show()"
      ]
    },
    {
      "cell_type": "markdown",
      "metadata": {
        "id": "vHgVc47WwBt_"
      },
      "source": [
        "Undersampling for Random Forest"
      ]
    },
    {
      "cell_type": "code",
      "execution_count": 39,
      "metadata": {
        "colab": {
          "base_uri": "https://localhost:8080/",
          "height": 805
        },
        "id": "b4_x2n9kma6f",
        "outputId": "b526e218-ffc5-489c-befe-87632319ff3c"
      },
      "outputs": [
        {
          "name": "stdout",
          "output_type": "stream",
          "text": [
            "Accuracy: 0.8933333333333333\n",
            "Precision: 0.7676767676767676\n",
            "F1 Score: 0.826086956521739\n",
            "Recall: 0.8941176470588236\n",
            "ROC AUC: 0.9332421340629274\n"
          ]
        },
        {
          "data": {
            "image/png": "[encoded data removed]",
            "text/plain": [
              "<Figure size 864x576 with 1 Axes>"
            ]
          },
          "metadata": {
            "needs_background": "light"
          },
          "output_type": "display_data"
        }
      ],
      "source": [
        "X_train, X_test, y_train, y_test = train_test_split(X, y, test_size=0.2, random_state=42)\n",
        "X_train_scaled, X_test_scaled = scaler.fit_transform(X_train), scaler.transform(X_test)\n",
        "\n",
        "rus = RandomUnderSampler(random_state=42)\n",
        "X_train_resampled, y_train_resampled = rus.fit_resample(X_train_scaled, y_train)\n",
        "\n",
        "rfc_model.fit(X_train_resampled, y_train_resampled)\n",
        "\n",
        "y_pred = rfc_model.predict(X_test_scaled)\n",
        "y_pred_prob = rfc_model.predict_proba(X_test_scaled)[:,1]\n",
        "accuracy = accuracy_score(y_test, y_pred)\n",
        "precision = precision_score(y_test, y_pred)\n",
        "f1 = f1_score(y_test, y_pred)\n",
        "recall = recall_score(y_test, y_pred)\n",
        "roc_auc = roc_auc_score(y_test, y_pred_prob)\n",
        "\n",
        "print(f'Accuracy: {accuracy}')\n",
        "print(f'Precision: {precision}')\n",
        "print(f'F1 Score: {f1}')\n",
        "print(f'Recall: {recall}')\n",
        "print(f'ROC AUC: {roc_auc}')\n",
        "\n",
        "feature_importances = rfc_model.feature_importances_\n",
        "features = X.columns\n",
        "\n",
        "plt.figure(figsize=(12, 8))\n",
        "plt.barh(features, feature_importances, color='skyblue')\n",
        "plt.xlabel('Feature Importance')\n",
        "plt.title('Feature Importance in Random Forest Classifier')\n",
        "plt.show()"
      ]
    },
    {
      "cell_type": "markdown",
      "metadata": {
        "id": "4MIHuYUZBPlX"
      },
      "source": [
        "# SVM"
      ]
    },
    {
      "cell_type": "code",
      "execution_count": 40,
      "metadata": {
        "colab": {
          "base_uri": "https://localhost:8080/"
        },
        "id": "Bfj7Dm82v_Fh",
        "outputId": "717b6376-f215-4487-b287-028e041b2ae1"
      },
      "outputs": [
        {
          "name": "stdout",
          "output_type": "stream",
          "text": [
            "Accuracy: 0.8633333333333333\n",
            "Precision: 0.782608695652174\n",
            "F1 Score: 0.7783783783783783\n",
            "Recall: 0.7741935483870968\n",
            "ROC AUC: 0.9101864838190223\n"
          ]
        }
      ],
      "source": [
        "X_train, X_test, y_train, y_test = train_test_split(X, y, test_size=0.2, random_state=42, stratify=y)\n",
        "X_train_scaled, X_test_scaled = scaler.fit_transform(X_train), scaler.transform(X_test)\n",
        "\n",
        "smt = SMOTE(random_state=42)\n",
        "X_train_resampled, y_train_resampled = smt.fit_resample(X_train_scaled, y_train)\n",
        "\n",
        "svm_model = SVC(probability=True, random_state=42)\n",
        "svm_model.fit(X_train_resampled, y_train_resampled)\n",
        "\n",
        "y_pred = svm_model.predict(X_test_scaled)\n",
        "y_pred_prob = svm_model.predict_proba(X_test_scaled)[:, 1]\n",
        "\n",
        "accuracy = accuracy_score(y_test, y_pred)\n",
        "precision = precision_score(y_test, y_pred)\n",
        "f1 = f1_score(y_test, y_pred)\n",
        "recall = recall_score(y_test, y_pred)\n",
        "roc_auc = roc_auc_score(y_test, y_pred_prob)\n",
        "\n",
        "print(f'Accuracy: {accuracy}')\n",
        "print(f'Precision: {precision}')\n",
        "print(f'F1 Score: {f1}')\n",
        "print(f'Recall: {recall}')\n",
        "print(f'ROC AUC: {roc_auc}')"
      ]
    },
    {
      "cell_type": "code",
      "execution_count": 41,
      "metadata": {
        "colab": {
          "base_uri": "https://localhost:8080/"
        },
        "id": "PzowWN7l_rLE",
        "outputId": "fa6ab8b0-b498-4b39-a1d3-1ba59b62390d"
      },
      "outputs": [
        {
          "name": "stdout",
          "output_type": "stream",
          "text": [
            "Accuracy: 0.8666666666666667\n",
            "Precision: 0.7523809523809524\n",
            "F1 Score: 0.7979797979797979\n",
            "Recall: 0.8494623655913979\n",
            "ROC AUC: 0.9093034128097242\n"
          ]
        }
      ],
      "source": [
        "X_train, X_test, y_train, y_test = train_test_split(X, y, test_size=0.2, random_state=42, stratify=y)\n",
        "X_train_scaled, X_test_scaled = scaler.fit_transform(X_train), scaler.transform(X_test)\n",
        "\n",
        "adasyn = ADASYN(random_state=42)\n",
        "X_train_resampled, y_train_resampled = adasyn.fit_resample(X_train_scaled, y_train)\n",
        "\n",
        "svm_model = SVC(probability=True, random_state=42)\n",
        "svm_model.fit(X_train_resampled, y_train_resampled)\n",
        "\n",
        "y_pred = svm_model.predict(X_test_scaled)\n",
        "y_pred_prob = svm_model.predict_proba(X_test_scaled)[:, 1]\n",
        "\n",
        "accuracy = accuracy_score(y_test, y_pred)\n",
        "precision = precision_score(y_test, y_pred)\n",
        "f1 = f1_score(y_test, y_pred)\n",
        "recall = recall_score(y_test, y_pred)\n",
        "roc_auc = roc_auc_score(y_test, y_pred_prob)\n",
        "\n",
        "print(f'Accuracy: {accuracy}')\n",
        "print(f'Precision: {precision}')\n",
        "print(f'F1 Score: {f1}')\n",
        "print(f'Recall: {recall}')\n",
        "print(f'ROC AUC: {roc_auc}')"
      ]
    },
    {
      "cell_type": "code",
      "execution_count": 42,
      "metadata": {
        "colab": {
          "base_uri": "https://localhost:8080/"
        },
        "id": "guWjSbrU_rI9",
        "outputId": "b504f7f8-2ddc-444e-bd87-102eae3f2e3e"
      },
      "outputs": [
        {
          "name": "stdout",
          "output_type": "stream",
          "text": [
            "Accuracy: 0.8666666666666667\n",
            "Precision: 0.7912087912087912\n",
            "F1 Score: 0.7826086956521738\n",
            "Recall: 0.7741935483870968\n",
            "ROC AUC: 0.910030647758558\n"
          ]
        }
      ],
      "source": [
        "X_train, X_test, y_train, y_test = train_test_split(X, y, test_size=0.2, random_state=42, stratify=y)\n",
        "X_train_scaled, X_test_scaled = scaler.fit_transform(X_train), scaler.transform(X_test)\n",
        "\n",
        "smote = SMOTETomek(random_state=42)\n",
        "X_train_resampled, y_train_resampled = smote.fit_resample(X_train_scaled, y_train)\n",
        "\n",
        "svm_model = SVC(probability=True, random_state=42)\n",
        "svm_model.fit(X_train_resampled, y_train_resampled)\n",
        "\n",
        "y_pred = svm_model.predict(X_test_scaled)\n",
        "y_pred_prob = svm_model.predict_proba(X_test_scaled)[:, 1]\n",
        "\n",
        "accuracy = accuracy_score(y_test, y_pred)\n",
        "precision = precision_score(y_test, y_pred)\n",
        "f1 = f1_score(y_test, y_pred)\n",
        "recall = recall_score(y_test, y_pred)\n",
        "roc_auc = roc_auc_score(y_test, y_pred_prob)\n",
        "\n",
        "print(f'Accuracy: {accuracy}')\n",
        "print(f'Precision: {precision}')\n",
        "print(f'F1 Score: {f1}')\n",
        "print(f'Recall: {recall}')\n",
        "print(f'ROC AUC: {roc_auc}')"
      ]
    },
    {
      "cell_type": "code",
      "execution_count": 43,
      "metadata": {
        "colab": {
          "base_uri": "https://localhost:8080/"
        },
        "id": "TNS-CLQG_rGw",
        "outputId": "bf187879-c5b8-4955-fbc0-a587e8caa333"
      },
      "outputs": [
        {
          "name": "stdout",
          "output_type": "stream",
          "text": [
            "Accuracy: 0.8466666666666667\n",
            "Precision: 0.7079646017699115\n",
            "F1 Score: 0.7766990291262136\n",
            "Recall: 0.8602150537634409\n",
            "ROC AUC: 0.9060308555399719\n"
          ]
        }
      ],
      "source": [
        "X_train, X_test, y_train, y_test = train_test_split(X, y, test_size=0.2, random_state=42, stratify=y)\n",
        "X_train_scaled, X_test_scaled = scaler.fit_transform(X_train), scaler.transform(X_test)\n",
        "\n",
        "smeen = SMOTEENN(random_state=42)\n",
        "X_train_resampled, y_train_resampled = smeen.fit_resample(X_train_scaled, y_train)\n",
        "\n",
        "svm_model = SVC(probability=True, random_state=42)\n",
        "svm_model.fit(X_train_resampled, y_train_resampled)\n",
        "\n",
        "y_pred = svm_model.predict(X_test_scaled)\n",
        "y_pred_prob = svm_model.predict_proba(X_test_scaled)[:, 1]\n",
        "\n",
        "accuracy = accuracy_score(y_test, y_pred)\n",
        "precision = precision_score(y_test, y_pred)\n",
        "f1 = f1_score(y_test, y_pred)\n",
        "recall = recall_score(y_test, y_pred)\n",
        "roc_auc = roc_auc_score(y_test, y_pred_prob)\n",
        "\n",
        "print(f'Accuracy: {accuracy}')\n",
        "print(f'Precision: {precision}')\n",
        "print(f'F1 Score: {f1}')\n",
        "print(f'Recall: {recall}')\n",
        "print(f'ROC AUC: {roc_auc}')"
      ]
    },
    {
      "cell_type": "markdown",
      "metadata": {
        "id": "wtiJNzlBEv0c"
      },
      "source": [
        "### Undersampling"
      ]
    },
    {
      "cell_type": "code",
      "execution_count": 44,
      "metadata": {
        "colab": {
          "base_uri": "https://localhost:8080/"
        },
        "id": "Rh7jo893_qyz",
        "outputId": "6c73f795-4a8b-4493-eb7f-15b9237b7d9b"
      },
      "outputs": [
        {
          "name": "stdout",
          "output_type": "stream",
          "text": [
            "Accuracy: 0.8466666666666667\n",
            "Precision: 0.7238095238095238\n",
            "F1 Score: 0.7676767676767677\n",
            "Recall: 0.8172043010752689\n",
            "ROC AUC: 0.9027582982702197\n"
          ]
        }
      ],
      "source": [
        "X_train, X_test, y_train, y_test = train_test_split(X, y, test_size=0.2, random_state=42, stratify=y)\n",
        "X_train_scaled, X_test_scaled = scaler.fit_transform(X_train), scaler.transform(X_test)\n",
        "\n",
        "rus = RandomUnderSampler(random_state=42)\n",
        "X_train_resampled, y_train_resampled = rus.fit_resample(X_train_scaled, y_train)\n",
        "\n",
        "svm_model = SVC(probability=True, random_state=42)\n",
        "svm_model.fit(X_train_resampled, y_train_resampled)\n",
        "\n",
        "y_pred = svm_model.predict(X_test_scaled)\n",
        "y_pred_prob = svm_model.predict_proba(X_test_scaled)[:, 1]\n",
        "\n",
        "accuracy = accuracy_score(y_test, y_pred)\n",
        "precision = precision_score(y_test, y_pred)\n",
        "f1 = f1_score(y_test, y_pred)\n",
        "recall = recall_score(y_test, y_pred)\n",
        "roc_auc = roc_auc_score(y_test, y_pred_prob)\n",
        "\n",
        "print(f'Accuracy: {accuracy}')\n",
        "print(f'Precision: {precision}')\n",
        "print(f'F1 Score: {f1}')\n",
        "print(f'Recall: {recall}')\n",
        "print(f'ROC AUC: {roc_auc}')"
      ]
    },
    {
      "cell_type": "markdown",
      "metadata": {
        "id": "O80mirRgPIJU"
      },
      "source": [
        "# We will choose Random Forest Classifier SMOTE"
      ]
    },
    {
      "cell_type": "code",
      "execution_count": 48,
      "metadata": {
        "colab": {
          "base_uri": "https://localhost:8080/",
          "height": 805
        },
        "id": "jxXGQQy5FRd3",
        "outputId": "c06bca15-9dfd-4dfa-8272-862d90f8143a"
      },
      "outputs": [
        {
          "name": "stdout",
          "output_type": "stream",
          "text": [
            "Accuracy: 0.9333333333333333\n",
            "Precision: 0.9012345679012346\n",
            "F1 Score: 0.8795180722891566\n",
            "Recall: 0.8588235294117647\n",
            "ROC AUC: 0.9270041039671683\n"
          ]
        },
        {
          "data": {
            "image/png": "[encoded data removed]",
            "text/plain": [
              "<Figure size 864x576 with 1 Axes>"
            ]
          },
          "metadata": {
            "needs_background": "light"
          },
          "output_type": "display_data"
        }
      ],
      "source": [
        "X_train, X_test, y_train, y_test = train_test_split(X, y, test_size=0.2, random_state=42)\n",
        "X_train_scaled, X_test_scaled = scaler.fit_transform(X_train), scaler.transform(X_test)\n",
        "\n",
        "smote = SMOTE(random_state=42)\n",
        "X_train_resampled, y_train_resampled = smote.fit_resample(X_train_scaled, y_train)\n",
        "\n",
        "rfc_model.fit(X_train_resampled, y_train_resampled)\n",
        "\n",
        "y_pred = rfc_model.predict(X_test_scaled)\n",
        "y_pred_prob = rfc_model.predict_proba(X_test_scaled)[:,1]\n",
        "accuracy = accuracy_score(y_test, y_pred)\n",
        "precision = precision_score(y_test, y_pred)\n",
        "f1 = f1_score(y_test, y_pred)\n",
        "recall = recall_score(y_test, y_pred)\n",
        "roc_auc = roc_auc_score(y_test, y_pred_prob)\n",
        "\n",
        "print(f'Accuracy: {accuracy}')\n",
        "print(f'Precision: {precision}')\n",
        "print(f'F1 Score: {f1}')\n",
        "print(f'Recall: {recall}')\n",
        "print(f'ROC AUC: {roc_auc}')\n",
        "\n",
        "feature_importances = rfc_model.feature_importances_\n",
        "features = X.columns\n",
        "\n",
        "plt.figure(figsize=(12, 8))\n",
        "plt.barh(features, feature_importances, color='skyblue')\n",
        "plt.xlabel('Feature Importance')\n",
        "plt.title('Feature Importance in Random Forest Classifier')\n",
        "plt.show()"
      ]
    },
    {
      "cell_type": "code",
      "execution_count": 50,
      "metadata": {
        "colab": {
          "base_uri": "https://localhost:8080/"
        },
        "id": "OKGxrSVGFZ2L",
        "outputId": "7fc824f6-401a-4e26-cff1-e80fcc6807f0"
      },
      "outputs": [
        {
          "name": "stdout",
          "output_type": "stream",
          "text": [
            "Accuracy: 0.94\n",
            "Precision: 0.9036144578313253\n",
            "F1 Score: 0.8928571428571428\n",
            "Recall: 0.8823529411764706\n",
            "ROC AUC: 0.926046511627907\n"
          ]
        }
      ],
      "source": [
        "preprocessor = ColumnTransformer(\n",
        "    transformers=[\n",
        "        ('num', StandardScaler(), X.columns)  # Assuming all columns in X are numeric\n",
        "    ]\n",
        ")\n",
        "\n",
        "pipeline = ImbPipeline(steps=[\n",
        "    ('preprocessor', preprocessor),\n",
        "    ('smote', SMOTE(random_state=42)),\n",
        "    ('classifier', rfc_model)\n",
        "])\n",
        "\n",
        "# Fit the pipeline\n",
        "pipeline.fit(X_train, y_train)\n",
        "\n",
        "# Save the pipeline\n",
        "joblib.dump(pipeline, 'model_pipeline.joblib')\n",
        "\n",
        "# Predict and evaluate as before\n",
        "y_pred = pipeline.predict(X_test)\n",
        "y_pred_prob = pipeline.predict_proba(X_test)[:, 1]\n",
        "accuracy = accuracy_score(y_test, y_pred)\n",
        "precision = precision_score(y_test, y_pred)\n",
        "f1 = f1_score(y_test, y_pred)\n",
        "recall = recall_score(y_test, y_pred)\n",
        "roc_auc = roc_auc_score(y_test, y_pred_prob)\n",
        "\n",
        "print(f'Accuracy: {accuracy}')\n",
        "print(f'Precision: {precision}')\n",
        "print(f'F1 Score: {f1}')\n",
        "print(f'Recall: {recall}')\n",
        "print(f'ROC AUC: {roc_auc}')\n"
      ]
    }
  ],
  "metadata": {
    "colab": {
      "provenance": []
    },
    "kernelspec": {
      "display_name": "Python 3",
      "name": "python3"
    },
    "language_info": {
      "codemirror_mode": {
        "name": "ipython",
        "version": 3
      },
      "file_extension": ".py",
      "mimetype": "text/x-python",
      "name": "python",
      "nbconvert_exporter": "python",
      "pygments_lexer": "ipython3",
      "version": "3.9.13"
    }
  },
  "nbformat": 4,
  "nbformat_minor": 0
}
